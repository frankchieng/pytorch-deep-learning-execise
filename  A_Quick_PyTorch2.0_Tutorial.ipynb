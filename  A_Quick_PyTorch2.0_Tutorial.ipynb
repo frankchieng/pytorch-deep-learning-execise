{
 "cells": [
  {
   "cell_type": "code",
   "execution_count": 1,
   "id": "3d0724dd-27ef-4b63-a3df-49ae270b433f",
   "metadata": {},
   "outputs": [
    {
     "name": "stdout",
     "output_type": "stream",
     "text": [
      "Notebook last updated: 2024-03-25 15:49:45.491638\n"
     ]
    }
   ],
   "source": [
    "import datetime\n",
    "print(f\"Notebook last updated: {datetime.datetime.now()}\")"
   ]
  },
  {
   "cell_type": "markdown",
   "id": "367b0ba0-106c-4c46-a899-fd1b2aa17f2c",
   "metadata": {},
   "source": [
    "Before pytorch 2.0"
   ]
  },
  {
   "cell_type": "code",
   "execution_count": 2,
   "id": "f8c7d328-5d7b-4eb5-9817-0e993984e675",
   "metadata": {},
   "outputs": [],
   "source": [
    "import torch\n",
    "import torchvision\n",
    "\n",
    "model = torchvision.models.resnet50() # note: this could be any model\n",
    "\n",
    "### Train model ###\n",
    "\n",
    "### Test model ###"
   ]
  },
  {
   "cell_type": "markdown",
   "id": "8e5a2646-6d54-42ef-a580-715093acad71",
   "metadata": {},
   "source": [
    "After pytorch 2.0"
   ]
  },
  {
   "cell_type": "code",
   "execution_count": 3,
   "id": "877a66f1-dc8b-41b9-b122-1a7b1733c569",
   "metadata": {},
   "outputs": [],
   "source": [
    "import torch\n",
    "import torchvision\n",
    "\n",
    "model = torchvision.models.resnet50() # note: this could be any model\n",
    "compiled_model = torch.compile(model) # <- magic happens!\n",
    "\n",
    "### Train model ### <- faster!\n",
    "\n",
    "### Test model ### <- faster!"
   ]
  },
  {
   "cell_type": "code",
   "execution_count": 4,
   "id": "6a259d5e-2691-48b3-886f-ba5310f51477",
   "metadata": {},
   "outputs": [
    {
     "name": "stdout",
     "output_type": "stream",
     "text": [
      "[INFO] Current PyTorch version: 2.1.0+cu118 (should be 2.x+)\n",
      "[INFO] PyTorch 2.x installed, you'll be able to use the new features.\n"
     ]
    }
   ],
   "source": [
    "import torch\n",
    "\n",
    "# Check PyTorch version\n",
    "pt_version = torch.__version__\n",
    "print(f\"[INFO] Current PyTorch version: {pt_version} (should be 2.x+)\")\n",
    "\n",
    "# Install PyTorch 2.0 if necessary\n",
    "if pt_version.split(\".\")[0] == \"1\": # Check if PyTorch version begins with 1 \n",
    "    !pip3 install -U torch torchvision torchaudio --index-url https://download.pytorch.org/whl/cu118\n",
    "    print(\"[INFO] PyTorch 2.x installed, if you're on Google Colab, you may need to restart your runtime.\\\n",
    "          Though as of April 2023, Google Colab comes with PyTorch 2.0 pre-installed.\")\n",
    "    import torch\n",
    "    pt_version = torch.__version__\n",
    "    print(f\"[INFO] Current PyTorch version: {pt_version} (should be 2.x+)\")\n",
    "else:\n",
    "    print(\"[INFO] PyTorch 2.x installed, you'll be able to use the new features.\")"
   ]
  },
  {
   "cell_type": "code",
   "execution_count": 5,
   "id": "da9c9369-86f4-4042-82fe-435bf827b33c",
   "metadata": {},
   "outputs": [
    {
     "name": "stdout",
     "output_type": "stream",
     "text": [
      "GPU name: NVIDIA_GeForce_RTX_4090\n",
      "GPU capability score: (8, 9)\n",
      "GPU score higher than or equal to (8, 0), PyTorch 2.x speedup features available.\n",
      "GPU information:\n",
      "Mon Mar 25 17:48:30 2024       \n",
      "+---------------------------------------------------------------------------------------+\n",
      "| NVIDIA-SMI 545.23.08              Driver Version: 545.23.08    CUDA Version: 12.3     |\n",
      "|-----------------------------------------+----------------------+----------------------+\n",
      "| GPU  Name                 Persistence-M | Bus-Id        Disp.A | Volatile Uncorr. ECC |\n",
      "| Fan  Temp   Perf          Pwr:Usage/Cap |         Memory-Usage | GPU-Util  Compute M. |\n",
      "|                                         |                      |               MIG M. |\n",
      "|=========================================+======================+======================|\n",
      "|   0  NVIDIA GeForce RTX 4090        On  | 00000000:01:00.0  On |                  Off |\n",
      "|  0%   44C    P8              10W / 450W |   2365MiB / 24564MiB |      1%      Default |\n",
      "|                                         |                      |                  N/A |\n",
      "+-----------------------------------------+----------------------+----------------------+\n",
      "                                                                                         \n",
      "+---------------------------------------------------------------------------------------+\n",
      "| Processes:                                                                            |\n",
      "|  GPU   GI   CI        PID   Type   Process name                            GPU Memory |\n",
      "|        ID   ID                                                             Usage      |\n",
      "|=======================================================================================|\n",
      "|    0   N/A  N/A      1404      G   /usr/lib/xorg/Xorg                          215MiB |\n",
      "|    0   N/A  N/A      1886    C+G   ...libexec/gnome-remote-desktop-daemon      390MiB |\n",
      "|    0   N/A  N/A      1923      G   /usr/bin/gnome-shell                         40MiB |\n",
      "|    0   N/A  N/A      3388      G   ...74,262144 --variations-seed-version      235MiB |\n",
      "|    0   N/A  N/A     26943      C   ...i/miniconda/envs/pytorch/bin/python     1450MiB |\n",
      "+---------------------------------------------------------------------------------------+\n"
     ]
    }
   ],
   "source": [
    "# Make sure we're using a NVIDIA GPU\n",
    "if torch.cuda.is_available():\n",
    "  gpu_info = !nvidia-smi\n",
    "  gpu_info = '\\n'.join(gpu_info)\n",
    "  if gpu_info.find(\"failed\") >= 0:\n",
    "    print(\"Not connected to a GPU, to leverage the best of PyTorch 2.0, you should connect to a GPU.\")\n",
    "\n",
    "  # Get GPU name\n",
    "  gpu_name = !nvidia-smi --query-gpu=gpu_name --format=csv\n",
    "  gpu_name = gpu_name[1]\n",
    "  GPU_NAME = gpu_name.replace(\" \", \"_\") # remove underscores for easier saving\n",
    "  print(f'GPU name: {GPU_NAME}')\n",
    "\n",
    "  # Get GPU capability score\n",
    "  GPU_SCORE = torch.cuda.get_device_capability()\n",
    "  print(f\"GPU capability score: {GPU_SCORE}\")\n",
    "  if GPU_SCORE >= (8, 0):\n",
    "    print(f\"GPU score higher than or equal to (8, 0), PyTorch 2.x speedup features available.\")\n",
    "  else:\n",
    "    print(f\"GPU score lower than (8, 0), PyTorch 2.x speedup features will be limited (PyTorch 2.x speedups happen most on newer GPUs).\")\n",
    "  \n",
    "  # Print GPU info\n",
    "  print(f\"GPU information:\\n{gpu_info}\")\n",
    "\n",
    "else:\n",
    "  print(\"PyTorch couldn't find a GPU, to leverage the best of PyTorch 2.0, you should connect to a GPU.\")"
   ]
  },
  {
   "cell_type": "code",
   "execution_count": 6,
   "id": "e689a219-1ffa-4082-a317-6dc3be617f57",
   "metadata": {},
   "outputs": [
    {
     "name": "stdout",
     "output_type": "stream",
     "text": [
      "Layer weights are on device: cuda:0\n",
      "Layer creating data on device: cuda:0\n"
     ]
    }
   ],
   "source": [
    "import torch\n",
    "\n",
    "# Set the device\n",
    "device = \"cuda\" if torch.cuda.is_available() else \"cpu\"\n",
    "\n",
    "# Set the device with context manager (requires PyTorch 2.x+)\n",
    "with torch.device(device):\n",
    "    # All tensors created in this block will be on device\n",
    "    layer = torch.nn.Linear(20, 30)\n",
    "    print(f\"Layer weights are on device: {layer.weight.device}\")\n",
    "    print(f\"Layer creating data on device: {layer(torch.randn(128, 20)).device}\")"
   ]
  },
  {
   "cell_type": "code",
   "execution_count": 7,
   "id": "d1426385-dd10-4c05-8ce8-a8b0cc0e4412",
   "metadata": {},
   "outputs": [
    {
     "name": "stdout",
     "output_type": "stream",
     "text": [
      "Layer weights are on device: cuda:0\n",
      "Layer creating data on device: cuda:0\n"
     ]
    }
   ],
   "source": [
    "import torch\n",
    "\n",
    "# Set the device\n",
    "device = \"cuda\" if torch.cuda.is_available() else \"cpu\"\n",
    "\n",
    "# Set the device globally\n",
    "torch.set_default_device(device)\n",
    "\n",
    "# All tensors created will be on the global device by default\n",
    "layer = torch.nn.Linear(20, 30)\n",
    "print(f\"Layer weights are on device: {layer.weight.device}\")\n",
    "print(f\"Layer creating data on device: {layer(torch.randn(128, 20)).device}\")"
   ]
  },
  {
   "cell_type": "code",
   "execution_count": 8,
   "id": "80e90376-a37a-4713-bfaf-20e9b36f0de5",
   "metadata": {},
   "outputs": [
    {
     "name": "stdout",
     "output_type": "stream",
     "text": [
      "Layer weights are on device: cpu\n",
      "Layer creating data on device: cpu\n"
     ]
    }
   ],
   "source": [
    "import torch \n",
    "\n",
    "# Set the device globally\n",
    "torch.set_default_device(\"cpu\")\n",
    "\n",
    "# All tensors created will be on \"cpu\"\n",
    "layer = torch.nn.Linear(20, 30)\n",
    "print(f\"Layer weights are on device: {layer.weight.device}\")\n",
    "print(f\"Layer creating data on device: {layer(torch.randn(128, 20)).device}\")"
   ]
  },
  {
   "cell_type": "code",
   "execution_count": 9,
   "id": "1e3ba636-3075-474a-9cef-986cb57b242a",
   "metadata": {},
   "outputs": [
    {
     "name": "stdout",
     "output_type": "stream",
     "text": [
      "PyTorch version: 2.1.0+cu118\n",
      "TorchVision version: 0.16.0+cu118\n",
      "Using device: cuda\n"
     ]
    }
   ],
   "source": [
    "import torch\n",
    "import torchvision\n",
    "\n",
    "print(f\"PyTorch version: {torch.__version__}\")\n",
    "print(f\"TorchVision version: {torchvision.__version__}\")\n",
    "\n",
    "# Set the target device\n",
    "device = \"cuda\" if torch.cuda.is_available() else \"cpu\"\n",
    "\n",
    "print(f\"Using device: {device}\")"
   ]
  },
  {
   "cell_type": "code",
   "execution_count": 10,
   "id": "631620b8-62ee-4447-9e45-2abc71fc7e2d",
   "metadata": {},
   "outputs": [
    {
     "name": "stderr",
     "output_type": "stream",
     "text": [
      "Downloading: \"https://download.pytorch.org/models/resnet50-11ad3fa6.pth\" to /home/qm/.cache/torch/hub/checkpoints/resnet50-11ad3fa6.pth\n",
      "100%|█████████████████████████████████████████████████████████████████████████████████████████████████████████████████████████████████████████████████████████████████████████████████████████████████████████████████████████████████████████| 97.8M/97.8M [01:16<00:00, 1.34MB/s]"
     ]
    },
    {
     "name": "stdout",
     "output_type": "stream",
     "text": [
      "Total parameters of model: 25557032 (the more parameters, the more GPU memory the model will use, the more *relative* of a speedup you'll get)\n",
      "Model transforms:\n",
      "ImageClassification(\n",
      "    crop_size=[224]\n",
      "    resize_size=[232]\n",
      "    mean=[0.485, 0.456, 0.406]\n",
      "    std=[0.229, 0.224, 0.225]\n",
      "    interpolation=InterpolationMode.BILINEAR\n",
      ")\n"
     ]
    },
    {
     "name": "stderr",
     "output_type": "stream",
     "text": [
      "\n"
     ]
    }
   ],
   "source": [
    "# Create model weights and transforms\n",
    "model_weights = torchvision.models.ResNet50_Weights.IMAGENET1K_V2 # <- use the latest weights (could also use .DEFAULT)\n",
    "transforms = model_weights.transforms()\n",
    "\n",
    "# Setup model\n",
    "model = torchvision.models.resnet50(weights=model_weights)\n",
    "\n",
    "# Count the number of parameters in the model \n",
    "total_params = sum(\n",
    "    param.numel() for param in model.parameters() # <- all params\n",
    "\t# param.numel() for param in model.parameters() if param.requires_grad # <- only trainable params\n",
    ")\n",
    "\n",
    "print(f\"Total parameters of model: {total_params} (the more parameters, the more GPU memory the model will use, the more *relative* of a speedup you'll get)\")\n",
    "print(f\"Model transforms:\\n{transforms}\")"
   ]
  },
  {
   "cell_type": "code",
   "execution_count": 11,
   "id": "0021c7fa-3898-4e73-a304-250c9531cee5",
   "metadata": {},
   "outputs": [],
   "source": [
    "def create_model(num_classes=10):\n",
    "  \"\"\"\n",
    "  Creates a ResNet50 model with the latest weights and transforms via torchvision.\n",
    "  \"\"\"\n",
    "  model_weights = torchvision.models.ResNet50_Weights.IMAGENET1K_V2\n",
    "  transforms = model_weights.transforms()\n",
    "  model = torchvision.models.resnet50(weights=model_weights)\n",
    "  \n",
    "  # Adjust the number of output features in model to match the number of classes in the dataset\n",
    "  model.fc = torch.nn.Linear(in_features=2048, \n",
    "                             out_features=num_classes)\n",
    "  return model, transforms\n",
    "\n",
    "model, transforms = create_model()"
   ]
  },
  {
   "cell_type": "code",
   "execution_count": 12,
   "id": "e18edde0-f16e-4b9b-a5f5-df3d47f34b69",
   "metadata": {},
   "outputs": [
    {
     "name": "stdout",
     "output_type": "stream",
     "text": [
      "Total free GPU memory: 22.507 GB\n",
      "Total GPU memory: 25.391 GB\n"
     ]
    }
   ],
   "source": [
    "# Check available GPU memory and total GPU memory \n",
    "total_free_gpu_memory, total_gpu_memory = torch.cuda.mem_get_info()\n",
    "print(f\"Total free GPU memory: {round(total_free_gpu_memory * 1e-9, 3)} GB\")\n",
    "print(f\"Total GPU memory: {round(total_gpu_memory * 1e-9, 3)} GB\")"
   ]
  },
  {
   "cell_type": "code",
   "execution_count": 13,
   "id": "fd68fefc-ace1-442f-867f-58fa684431ab",
   "metadata": {},
   "outputs": [
    {
     "name": "stdout",
     "output_type": "stream",
     "text": [
      "GPU memory available is 22.507 GB, using batch size of 128 and image size 224\n"
     ]
    }
   ],
   "source": [
    "# Set batch size depending on amount of GPU memory\n",
    "total_free_gpu_memory_gb = round(total_free_gpu_memory * 1e-9, 3)\n",
    "if total_free_gpu_memory_gb >= 16:\n",
    "  BATCH_SIZE = 128 # Note: you could experiment with higher values here if you like.\n",
    "  IMAGE_SIZE = 224\n",
    "  print(f\"GPU memory available is {total_free_gpu_memory_gb} GB, using batch size of {BATCH_SIZE} and image size {IMAGE_SIZE}\")\n",
    "else:\n",
    "  BATCH_SIZE = 32\n",
    "  IMAGE_SIZE = 128\n",
    "  print(f\"GPU memory available is {total_free_gpu_memory_gb} GB, using batch size of {BATCH_SIZE} and image size {IMAGE_SIZE}\")"
   ]
  },
  {
   "cell_type": "code",
   "execution_count": 14,
   "id": "6a736c18-a9ad-40c9-a89a-8c1e7a71326e",
   "metadata": {},
   "outputs": [
    {
     "name": "stdout",
     "output_type": "stream",
     "text": [
      "Updated data transforms:\n",
      "ImageClassification(\n",
      "    crop_size=224\n",
      "    resize_size=224\n",
      "    mean=[0.485, 0.456, 0.406]\n",
      "    std=[0.229, 0.224, 0.225]\n",
      "    interpolation=InterpolationMode.BILINEAR\n",
      ")\n"
     ]
    }
   ],
   "source": [
    "transforms.crop_size = IMAGE_SIZE\n",
    "transforms.resize_size = IMAGE_SIZE \n",
    "print(f\"Updated data transforms:\\n{transforms}\")"
   ]
  },
  {
   "cell_type": "code",
   "execution_count": 15,
   "id": "0ddd3cdf-2585-4482-ac42-a196d4883928",
   "metadata": {},
   "outputs": [
    {
     "name": "stdout",
     "output_type": "stream",
     "text": [
      "[INFO] Using GPU with score: (8, 9), enabling TensorFloat32 (TF32) computing (faster on new GPUs)\n"
     ]
    }
   ],
   "source": [
    "if GPU_SCORE >= (8, 0):\n",
    "  print(f\"[INFO] Using GPU with score: {GPU_SCORE}, enabling TensorFloat32 (TF32) computing (faster on new GPUs)\")\n",
    "  torch.backends.cuda.matmul.allow_tf32 = True\n",
    "else:\n",
    "  print(f\"[INFO] Using GPU with score: {GPU_SCORE}, TensorFloat32 (TF32) not available, to use it you need a GPU with score >= (8, 0)\")\n",
    "  torch.backends.cuda.matmul.allow_tf32 = False"
   ]
  },
  {
   "cell_type": "code",
   "execution_count": 16,
   "id": "14833afe-cab4-4df5-88bf-ca587f4f198f",
   "metadata": {},
   "outputs": [
    {
     "name": "stdout",
     "output_type": "stream",
     "text": [
      "Downloading https://www.cs.toronto.edu/~kriz/cifar-10-python.tar.gz to ./cifar-10-python.tar.gz\n"
     ]
    },
    {
     "name": "stderr",
     "output_type": "stream",
     "text": [
      "100%|███████████████████████████████████████████████████████████████████████████████████████████████████████████████████████████████████████████████████████████████████████████████████████████████████████████████████████████| 170498071/170498071 [01:50<00:00, 1545991.56it/s]\n"
     ]
    },
    {
     "name": "stdout",
     "output_type": "stream",
     "text": [
      "Extracting ./cifar-10-python.tar.gz to .\n",
      "Files already downloaded and verified\n",
      "[INFO] Train dataset length: 50000\n",
      "[INFO] Test dataset length: 10000\n"
     ]
    }
   ],
   "source": [
    "# Create train and test datasets\n",
    "train_dataset = torchvision.datasets.CIFAR10(root='.', \n",
    "                                             train=True, \n",
    "                                             download=True, \n",
    "                                             transform=transforms)\n",
    "\n",
    "test_dataset = torchvision.datasets.CIFAR10(root='.', \n",
    "                                            train=False, # want the test split\n",
    "                                            download=True, \n",
    "                                            transform=transforms)\n",
    "\n",
    "# Get the lengths of the datasets\n",
    "train_len = len(train_dataset)\n",
    "test_len = len(test_dataset)\n",
    "\n",
    "print(f\"[INFO] Train dataset length: {train_len}\")\n",
    "print(f\"[INFO] Test dataset length: {test_len}\")"
   ]
  },
  {
   "cell_type": "code",
   "execution_count": 17,
   "id": "73af44a3-457b-4dff-aa9a-084f56f3901e",
   "metadata": {},
   "outputs": [
    {
     "name": "stdout",
     "output_type": "stream",
     "text": [
      "Train dataloader length: 391 batches of size 128\n",
      "Test dataloader length: 79 batches of size 128\n",
      "Using number of workers: 32 (generally more workers means faster dataloading from CPU to GPU)\n"
     ]
    }
   ],
   "source": [
    "from torch.utils.data import DataLoader\n",
    "\n",
    "# Create DataLoaders\n",
    "import os\n",
    "NUM_WORKERS = os.cpu_count() # <- use all available CPU cores (this number can be tweaked through experimentation but generally more workers means faster dataloading from CPU to GPU)\n",
    "\n",
    "train_dataloader = DataLoader(dataset=train_dataset,\n",
    "                              batch_size=BATCH_SIZE,\n",
    "                              shuffle=True,\n",
    "                              num_workers=NUM_WORKERS)\n",
    "\n",
    "test_dataloader = DataLoader(dataset=test_dataset,\n",
    "                              batch_size=BATCH_SIZE,\n",
    "                              shuffle=False,\n",
    "                              num_workers=NUM_WORKERS)\n",
    "\n",
    "# Print details\n",
    "print(f\"Train dataloader length: {len(train_dataloader)} batches of size {BATCH_SIZE}\")\n",
    "print(f\"Test dataloader length: {len(test_dataloader)} batches of size {BATCH_SIZE}\")\n",
    "print(f\"Using number of workers: {NUM_WORKERS} (generally more workers means faster dataloading from CPU to GPU)\")"
   ]
  },
  {
   "cell_type": "code",
   "execution_count": 21,
   "id": "5ffd0852-754f-4907-b772-fea1333285e7",
   "metadata": {},
   "outputs": [],
   "source": [
    "import time\n",
    "from tqdm.auto import tqdm\n",
    "from typing import Dict, List, Tuple\n",
    "\n",
    "def train_step(epoch: int,\n",
    "               model: torch.nn.Module, \n",
    "               dataloader: torch.utils.data.DataLoader, \n",
    "               loss_fn: torch.nn.Module, \n",
    "               optimizer: torch.optim.Optimizer,\n",
    "               device: torch.device,\n",
    "               disable_progress_bar: bool = False) -> Tuple[float, float]:\n",
    "  \"\"\"Trains a PyTorch model for a single epoch.\n",
    "\n",
    "  Turns a target PyTorch model to training mode and then\n",
    "  runs through all of the required training steps (forward\n",
    "  pass, loss calculation, optimizer step).\n",
    "\n",
    "  Args:\n",
    "    model: A PyTorch model to be trained.\n",
    "    dataloader: A DataLoader instance for the model to be trained on.\n",
    "    loss_fn: A PyTorch loss function to minimize.\n",
    "    optimizer: A PyTorch optimizer to help minimize the loss function.\n",
    "    device: A target device to compute on (e.g. \"cuda\" or \"cpu\").\n",
    "\n",
    "  Returns:\n",
    "    A tuple of training loss and training accuracy metrics.\n",
    "    In the form (train_loss, train_accuracy). For example:\n",
    "\n",
    "    (0.1112, 0.8743)\n",
    "  \"\"\"\n",
    "  # Put model in train mode\n",
    "  model.train()\n",
    "\n",
    "  # Setup train loss and train accuracy values\n",
    "  train_loss, train_acc = 0, 0\n",
    "\n",
    "  # Loop through data loader data batches\n",
    "  progress_bar = tqdm(\n",
    "        enumerate(dataloader), \n",
    "        desc=f\"Training Epoch {epoch}\", \n",
    "        total=len(dataloader),\n",
    "        disable=disable_progress_bar\n",
    "    )\n",
    "\n",
    "  for batch, (X, y) in progress_bar:\n",
    "      # Send data to target device\n",
    "      X, y = X.to(device), y.to(device)\n",
    "\n",
    "      # 1. Forward pass\n",
    "      y_pred = model(X)\n",
    "\n",
    "      # 2. Calculate  and accumulate loss\n",
    "      loss = loss_fn(y_pred, y)\n",
    "      train_loss += loss.item() \n",
    "\n",
    "      # 3. Optimizer zero grad\n",
    "      optimizer.zero_grad()\n",
    "\n",
    "      # 4. Loss backward\n",
    "      loss.backward()\n",
    "\n",
    "      # 5. Optimizer step\n",
    "      optimizer.step()\n",
    "\n",
    "      # Calculate and accumulate accuracy metric across all batches\n",
    "      y_pred_class = torch.argmax(torch.softmax(y_pred, dim=1), dim=1)\n",
    "      train_acc += (y_pred_class == y).sum().item()/len(y_pred)\n",
    "\n",
    "      # Update progress bar\n",
    "      progress_bar.set_postfix(\n",
    "            {\n",
    "                \"train_loss\": train_loss / (batch + 1),\n",
    "                \"train_acc\": train_acc / (batch + 1),\n",
    "            }\n",
    "        )\n",
    "\n",
    "\n",
    "  # Adjust metrics to get average loss and accuracy per batch \n",
    "  train_loss = train_loss / len(dataloader)\n",
    "  train_acc = train_acc / len(dataloader)\n",
    "  return train_loss, train_acc\n",
    "\n",
    "def test_step(epoch: int,\n",
    "              model: torch.nn.Module, \n",
    "              dataloader: torch.utils.data.DataLoader, \n",
    "              loss_fn: torch.nn.Module,\n",
    "              device: torch.device,\n",
    "              disable_progress_bar: bool = False) -> Tuple[float, float]:\n",
    "  \"\"\"Tests a PyTorch model for a single epoch.\n",
    "\n",
    "  Turns a target PyTorch model to \"eval\" mode and then performs\n",
    "  a forward pass on a testing dataset.\n",
    "\n",
    "  Args:\n",
    "    model: A PyTorch model to be tested.\n",
    "    dataloader: A DataLoader instance for the model to be tested on.\n",
    "    loss_fn: A PyTorch loss function to calculate loss on the test data.\n",
    "    device: A target device to compute on (e.g. \"cuda\" or \"cpu\").\n",
    "\n",
    "  Returns:\n",
    "    A tuple of testing loss and testing accuracy metrics.\n",
    "    In the form (test_loss, test_accuracy). For example:\n",
    "\n",
    "    (0.0223, 0.8985)\n",
    "  \"\"\"\n",
    "  # Put model in eval mode\n",
    "  model.eval() \n",
    "\n",
    "  # Setup test loss and test accuracy values\n",
    "  test_loss, test_acc = 0, 0\n",
    "\n",
    "  # Loop through data loader data batches\n",
    "  progress_bar = tqdm(\n",
    "      enumerate(dataloader), \n",
    "      desc=f\"Testing Epoch {epoch}\", \n",
    "      total=len(dataloader),\n",
    "      disable=disable_progress_bar\n",
    "  )\n",
    "\n",
    "  # Turn on inference context manager\n",
    "  with torch.no_grad(): # no_grad() required for PyTorch 2.0, I found some errors with `torch.inference_mode()`, please let me know if this is not the case\n",
    "      # Loop through DataLoader batches\n",
    "      for batch, (X, y) in progress_bar:\n",
    "          # Send data to target device\n",
    "          X, y = X.to(device), y.to(device)\n",
    "\n",
    "          # 1. Forward pass\n",
    "          test_pred_logits = model(X)\n",
    "\n",
    "          # 2. Calculate and accumulate loss\n",
    "          loss = loss_fn(test_pred_logits, y)\n",
    "          test_loss += loss.item()\n",
    "\n",
    "          # Calculate and accumulate accuracy\n",
    "          test_pred_labels = test_pred_logits.argmax(dim=1)\n",
    "          test_acc += ((test_pred_labels == y).sum().item()/len(test_pred_labels))\n",
    "\n",
    "          # Update progress bar\n",
    "          progress_bar.set_postfix(\n",
    "              {\n",
    "                  \"test_loss\": test_loss / (batch + 1),\n",
    "                  \"test_acc\": test_acc / (batch + 1),\n",
    "              }\n",
    "          )\n",
    "\n",
    "  # Adjust metrics to get average loss and accuracy per batch \n",
    "  test_loss = test_loss / len(dataloader)\n",
    "  test_acc = test_acc / len(dataloader)\n",
    "  return test_loss, test_acc\n",
    "\n",
    "def train(model: torch.nn.Module, \n",
    "          train_dataloader: torch.utils.data.DataLoader, \n",
    "          test_dataloader: torch.utils.data.DataLoader, \n",
    "          optimizer: torch.optim.Optimizer,\n",
    "          loss_fn: torch.nn.Module,\n",
    "          epochs: int,\n",
    "          device: torch.device,\n",
    "          disable_progress_bar: bool = False) -> Dict[str, List]:\n",
    "  \"\"\"Trains and tests a PyTorch model.\n",
    "\n",
    "  Passes a target PyTorch models through train_step() and test_step()\n",
    "  functions for a number of epochs, training and testing the model\n",
    "  in the same epoch loop.\n",
    "\n",
    "  Calculates, prints and stores evaluation metrics throughout.\n",
    "\n",
    "  Args:\n",
    "    model: A PyTorch model to be trained and tested.\n",
    "    train_dataloader: A DataLoader instance for the model to be trained on.\n",
    "    test_dataloader: A DataLoader instance for the model to be tested on.\n",
    "    optimizer: A PyTorch optimizer to help minimize the loss function.\n",
    "    loss_fn: A PyTorch loss function to calculate loss on both datasets.\n",
    "    epochs: An integer indicating how many epochs to train for.\n",
    "    device: A target device to compute on (e.g. \"cuda\" or \"cpu\").\n",
    "\n",
    "  Returns:\n",
    "    A dictionary of training and testing loss as well as training and\n",
    "    testing accuracy metrics. Each metric has a value in a list for \n",
    "    each epoch.\n",
    "    In the form: {train_loss: [...],\n",
    "                  train_acc: [...],\n",
    "                  test_loss: [...],\n",
    "                  test_acc: [...]} \n",
    "    For example if training for epochs=2: \n",
    "                 {train_loss: [2.0616, 1.0537],\n",
    "                  train_acc: [0.3945, 0.3945],\n",
    "                  test_loss: [1.2641, 1.5706],\n",
    "                  test_acc: [0.3400, 0.2973]} \n",
    "  \"\"\"\n",
    "  # Create empty results dictionary\n",
    "  results = {\"train_loss\": [],\n",
    "      \"train_acc\": [],\n",
    "      \"test_loss\": [],\n",
    "      \"test_acc\": [],\n",
    "      \"train_epoch_time\": [],\n",
    "      \"test_epoch_time\": []\n",
    "  }\n",
    "\n",
    "  # Loop through training and testing steps for a number of epochs\n",
    "  for epoch in tqdm(range(epochs), disable=disable_progress_bar):\n",
    "\n",
    "      # Perform training step and time it\n",
    "      train_epoch_start_time = time.time()\n",
    "      train_loss, train_acc = train_step(epoch=epoch, \n",
    "                                        model=model,\n",
    "                                        dataloader=train_dataloader,\n",
    "                                        loss_fn=loss_fn,\n",
    "                                        optimizer=optimizer,\n",
    "                                        device=device,\n",
    "                                        disable_progress_bar=disable_progress_bar)\n",
    "      train_epoch_end_time = time.time()\n",
    "      train_epoch_time = train_epoch_end_time - train_epoch_start_time\n",
    "      \n",
    "      # Perform testing step and time it\n",
    "      test_epoch_start_time = time.time()\n",
    "      test_loss, test_acc = test_step(epoch=epoch,\n",
    "                                      model=model,\n",
    "                                      dataloader=test_dataloader,\n",
    "                                      loss_fn=loss_fn,\n",
    "                                      device=device,\n",
    "                                      disable_progress_bar=disable_progress_bar)\n",
    "      test_epoch_end_time = time.time()\n",
    "      test_epoch_time = test_epoch_end_time - test_epoch_start_time\n",
    "\n",
    "      # Print out what's happening\n",
    "      print(\n",
    "          f\"Epoch: {epoch+1} | \"\n",
    "          f\"train_loss: {train_loss:.4f} | \"\n",
    "          f\"train_acc: {train_acc:.4f} | \"\n",
    "          f\"test_loss: {test_loss:.4f} | \"\n",
    "          f\"test_acc: {test_acc:.4f} | \"\n",
    "          f\"train_epoch_time: {train_epoch_time:.4f} | \"\n",
    "          f\"test_epoch_time: {test_epoch_time:.4f}\"\n",
    "      )\n",
    "\n",
    "      # Update results dictionary\n",
    "      results[\"train_loss\"].append(train_loss)\n",
    "      results[\"train_acc\"].append(train_acc)\n",
    "      results[\"test_loss\"].append(test_loss)\n",
    "      results[\"test_acc\"].append(test_acc)\n",
    "      results[\"train_epoch_time\"].append(train_epoch_time)\n",
    "      results[\"test_epoch_time\"].append(test_epoch_time)\n",
    "\n",
    "  # Return the filled results at the end of the epochs\n",
    "  return results"
   ]
  },
  {
   "cell_type": "code",
   "execution_count": 22,
   "id": "560bb9ac-a8b1-408a-b69f-a0b4e5f2e4b9",
   "metadata": {},
   "outputs": [],
   "source": [
    "# Set the number of epochs as a constant\n",
    "NUM_EPOCHS = 5\n",
    "\n",
    "# Set the learning rate as a constant (this can be changed to get better results but for now we're just focused on time)\n",
    "LEARNING_RATE = 0.003"
   ]
  },
  {
   "cell_type": "code",
   "execution_count": 23,
   "id": "ddb800db-7c63-4f98-9603-985dfecdd15b",
   "metadata": {},
   "outputs": [
    {
     "data": {
      "application/vnd.jupyter.widget-view+json": {
       "model_id": "0a6c799ffc47462b851f128339ac12c2",
       "version_major": 2,
       "version_minor": 0
      },
      "text/plain": [
       "  0%|          | 0/5 [00:00<?, ?it/s]"
      ]
     },
     "metadata": {},
     "output_type": "display_data"
    },
    {
     "data": {
      "application/vnd.jupyter.widget-view+json": {
       "model_id": "2d1932d23f66489fad34749db7fd8ed2",
       "version_major": 2,
       "version_minor": 0
      },
      "text/plain": [
       "Training Epoch 0:   0%|          | 0/391 [00:00<?, ?it/s]"
      ]
     },
     "metadata": {},
     "output_type": "display_data"
    },
    {
     "data": {
      "application/vnd.jupyter.widget-view+json": {
       "model_id": "70df82ab24c74bbf8f8220d266a3fff3",
       "version_major": 2,
       "version_minor": 0
      },
      "text/plain": [
       "Testing Epoch 0:   0%|          | 0/79 [00:00<?, ?it/s]"
      ]
     },
     "metadata": {},
     "output_type": "display_data"
    },
    {
     "name": "stdout",
     "output_type": "stream",
     "text": [
      "Epoch: 1 | train_loss: 0.8051 | train_acc: 0.7193 | test_loss: 0.6125 | test_acc: 0.7900 | train_epoch_time: 76.2773 | test_epoch_time: 6.2542\n"
     ]
    },
    {
     "data": {
      "application/vnd.jupyter.widget-view+json": {
       "model_id": "52796764a0e2443190cf65b78f3c736e",
       "version_major": 2,
       "version_minor": 0
      },
      "text/plain": [
       "Training Epoch 1:   0%|          | 0/391 [00:00<?, ?it/s]"
      ]
     },
     "metadata": {},
     "output_type": "display_data"
    },
    {
     "data": {
      "application/vnd.jupyter.widget-view+json": {
       "model_id": "950e5373891e4167a11ba591cd4b6576",
       "version_major": 2,
       "version_minor": 0
      },
      "text/plain": [
       "Testing Epoch 1:   0%|          | 0/79 [00:00<?, ?it/s]"
      ]
     },
     "metadata": {},
     "output_type": "display_data"
    },
    {
     "name": "stdout",
     "output_type": "stream",
     "text": [
      "Epoch: 2 | train_loss: 0.4461 | train_acc: 0.8450 | test_loss: 0.5873 | test_acc: 0.8076 | train_epoch_time: 76.7363 | test_epoch_time: 5.9911\n"
     ]
    },
    {
     "data": {
      "application/vnd.jupyter.widget-view+json": {
       "model_id": "c59aef22e0b0401cabf8f4f1d84cbe8c",
       "version_major": 2,
       "version_minor": 0
      },
      "text/plain": [
       "Training Epoch 2:   0%|          | 0/391 [00:00<?, ?it/s]"
      ]
     },
     "metadata": {},
     "output_type": "display_data"
    },
    {
     "data": {
      "application/vnd.jupyter.widget-view+json": {
       "model_id": "d48684246b454abdb2863e31cf7da5ed",
       "version_major": 2,
       "version_minor": 0
      },
      "text/plain": [
       "Testing Epoch 2:   0%|          | 0/79 [00:00<?, ?it/s]"
      ]
     },
     "metadata": {},
     "output_type": "display_data"
    },
    {
     "name": "stdout",
     "output_type": "stream",
     "text": [
      "Epoch: 3 | train_loss: 0.3230 | train_acc: 0.8896 | test_loss: 0.6524 | test_acc: 0.7948 | train_epoch_time: 75.2007 | test_epoch_time: 6.0398\n"
     ]
    },
    {
     "data": {
      "application/vnd.jupyter.widget-view+json": {
       "model_id": "8ca16e2bd0b049469553094c48ff759b",
       "version_major": 2,
       "version_minor": 0
      },
      "text/plain": [
       "Training Epoch 3:   0%|          | 0/391 [00:00<?, ?it/s]"
      ]
     },
     "metadata": {},
     "output_type": "display_data"
    },
    {
     "data": {
      "application/vnd.jupyter.widget-view+json": {
       "model_id": "625dae6109e04d3aa2a688eff6349380",
       "version_major": 2,
       "version_minor": 0
      },
      "text/plain": [
       "Testing Epoch 3:   0%|          | 0/79 [00:00<?, ?it/s]"
      ]
     },
     "metadata": {},
     "output_type": "display_data"
    },
    {
     "name": "stdout",
     "output_type": "stream",
     "text": [
      "Epoch: 4 | train_loss: 0.2427 | train_acc: 0.9159 | test_loss: 0.4501 | test_acc: 0.8530 | train_epoch_time: 75.3232 | test_epoch_time: 6.0658\n"
     ]
    },
    {
     "data": {
      "application/vnd.jupyter.widget-view+json": {
       "model_id": "7dfc2db4762241a0945bc3e6f13a66a6",
       "version_major": 2,
       "version_minor": 0
      },
      "text/plain": [
       "Training Epoch 4:   0%|          | 0/391 [00:00<?, ?it/s]"
      ]
     },
     "metadata": {},
     "output_type": "display_data"
    },
    {
     "data": {
      "application/vnd.jupyter.widget-view+json": {
       "model_id": "8dc75d5199074627b9e7eb992b5302e5",
       "version_major": 2,
       "version_minor": 0
      },
      "text/plain": [
       "Testing Epoch 4:   0%|          | 0/79 [00:00<?, ?it/s]"
      ]
     },
     "metadata": {},
     "output_type": "display_data"
    },
    {
     "name": "stdout",
     "output_type": "stream",
     "text": [
      "Epoch: 5 | train_loss: 0.1829 | train_acc: 0.9357 | test_loss: 0.3943 | test_acc: 0.8736 | train_epoch_time: 75.1977 | test_epoch_time: 6.0311\n"
     ]
    }
   ],
   "source": [
    "# Create model\n",
    "model, transforms = create_model()\n",
    "model.to(device)\n",
    "\n",
    "# Create loss function and optimizer\n",
    "loss_fn = torch.nn.CrossEntropyLoss()\n",
    "optimizer = torch.optim.Adam(model.parameters(),\n",
    "                             lr=LEARNING_RATE)\n",
    "\n",
    "# Train model and track results\n",
    "single_run_no_compile_results = train(model=model,\n",
    "                                      train_dataloader=train_dataloader,\n",
    "                                      test_dataloader=test_dataloader,\n",
    "                                      loss_fn=loss_fn,\n",
    "                                      optimizer=optimizer,\n",
    "                                      epochs=NUM_EPOCHS,\n",
    "                                      device=device)"
   ]
  },
  {
   "cell_type": "code",
   "execution_count": 25,
   "id": "833f7e7a-c86a-4402-80c6-c9a52381351a",
   "metadata": {},
   "outputs": [
    {
     "name": "stdout",
     "output_type": "stream",
     "text": [
      "Time to compile: 0.00020647048950195312 | Note: The first time you compile your model, the first few epochs will be slower than subsequent runs.\n"
     ]
    },
    {
     "data": {
      "application/vnd.jupyter.widget-view+json": {
       "model_id": "11a43cacf2824b1889d3c9fab157ee6f",
       "version_major": 2,
       "version_minor": 0
      },
      "text/plain": [
       "  0%|          | 0/5 [00:00<?, ?it/s]"
      ]
     },
     "metadata": {},
     "output_type": "display_data"
    },
    {
     "data": {
      "application/vnd.jupyter.widget-view+json": {
       "model_id": "4681ed31e5f342ff94b4907047086184",
       "version_major": 2,
       "version_minor": 0
      },
      "text/plain": [
       "Training Epoch 0:   0%|          | 0/391 [00:00<?, ?it/s]"
      ]
     },
     "metadata": {},
     "output_type": "display_data"
    },
    {
     "data": {
      "application/vnd.jupyter.widget-view+json": {
       "model_id": "17b31c32c13b4bf88d075376b86e484d",
       "version_major": 2,
       "version_minor": 0
      },
      "text/plain": [
       "Testing Epoch 0:   0%|          | 0/79 [00:00<?, ?it/s]"
      ]
     },
     "metadata": {},
     "output_type": "display_data"
    },
    {
     "name": "stdout",
     "output_type": "stream",
     "text": [
      "Epoch: 1 | train_loss: 0.8017 | train_acc: 0.7216 | test_loss: 0.7921 | test_acc: 0.7348 | train_epoch_time: 93.5567 | test_epoch_time: 12.3123\n"
     ]
    },
    {
     "data": {
      "application/vnd.jupyter.widget-view+json": {
       "model_id": "3a31290280864428b06a5eceac501937",
       "version_major": 2,
       "version_minor": 0
      },
      "text/plain": [
       "Training Epoch 1:   0%|          | 0/391 [00:00<?, ?it/s]"
      ]
     },
     "metadata": {},
     "output_type": "display_data"
    },
    {
     "data": {
      "application/vnd.jupyter.widget-view+json": {
       "model_id": "d879fed050674023ae81a4dfa6279514",
       "version_major": 2,
       "version_minor": 0
      },
      "text/plain": [
       "Testing Epoch 1:   0%|          | 0/79 [00:00<?, ?it/s]"
      ]
     },
     "metadata": {},
     "output_type": "display_data"
    },
    {
     "name": "stdout",
     "output_type": "stream",
     "text": [
      "Epoch: 2 | train_loss: 0.4438 | train_acc: 0.8454 | test_loss: 0.6186 | test_acc: 0.7947 | train_epoch_time: 66.9472 | test_epoch_time: 4.8468\n"
     ]
    },
    {
     "data": {
      "application/vnd.jupyter.widget-view+json": {
       "model_id": "74d9f1e488b44fcda28e26ec393b5cf9",
       "version_major": 2,
       "version_minor": 0
      },
      "text/plain": [
       "Training Epoch 2:   0%|          | 0/391 [00:00<?, ?it/s]"
      ]
     },
     "metadata": {},
     "output_type": "display_data"
    },
    {
     "data": {
      "application/vnd.jupyter.widget-view+json": {
       "model_id": "d698e49e8757415b8e9018103ef2b9a0",
       "version_major": 2,
       "version_minor": 0
      },
      "text/plain": [
       "Testing Epoch 2:   0%|          | 0/79 [00:00<?, ?it/s]"
      ]
     },
     "metadata": {},
     "output_type": "display_data"
    },
    {
     "name": "stdout",
     "output_type": "stream",
     "text": [
      "Epoch: 3 | train_loss: 0.3169 | train_acc: 0.8896 | test_loss: 0.4573 | test_acc: 0.8508 | train_epoch_time: 66.8881 | test_epoch_time: 4.8239\n"
     ]
    },
    {
     "data": {
      "application/vnd.jupyter.widget-view+json": {
       "model_id": "204aaa8481be47d39cf31634071a15f8",
       "version_major": 2,
       "version_minor": 0
      },
      "text/plain": [
       "Training Epoch 3:   0%|          | 0/391 [00:00<?, ?it/s]"
      ]
     },
     "metadata": {},
     "output_type": "display_data"
    },
    {
     "data": {
      "application/vnd.jupyter.widget-view+json": {
       "model_id": "8dffaa79a0cc47cdbeda0a395f78164f",
       "version_major": 2,
       "version_minor": 0
      },
      "text/plain": [
       "Testing Epoch 3:   0%|          | 0/79 [00:00<?, ?it/s]"
      ]
     },
     "metadata": {},
     "output_type": "display_data"
    },
    {
     "name": "stdout",
     "output_type": "stream",
     "text": [
      "Epoch: 4 | train_loss: 0.2369 | train_acc: 0.9177 | test_loss: 0.4532 | test_acc: 0.8494 | train_epoch_time: 66.6485 | test_epoch_time: 4.8231\n"
     ]
    },
    {
     "data": {
      "application/vnd.jupyter.widget-view+json": {
       "model_id": "ef361c47501f49de80073c8ab1529cf9",
       "version_major": 2,
       "version_minor": 0
      },
      "text/plain": [
       "Training Epoch 4:   0%|          | 0/391 [00:00<?, ?it/s]"
      ]
     },
     "metadata": {},
     "output_type": "display_data"
    },
    {
     "data": {
      "application/vnd.jupyter.widget-view+json": {
       "model_id": "e2d42f3b571a430b9a4befc3ec9df699",
       "version_major": 2,
       "version_minor": 0
      },
      "text/plain": [
       "Testing Epoch 4:   0%|          | 0/79 [00:00<?, ?it/s]"
      ]
     },
     "metadata": {},
     "output_type": "display_data"
    },
    {
     "name": "stdout",
     "output_type": "stream",
     "text": [
      "Epoch: 5 | train_loss: 0.1756 | train_acc: 0.9388 | test_loss: 0.3955 | test_acc: 0.8765 | train_epoch_time: 66.6450 | test_epoch_time: 4.8355\n"
     ]
    }
   ],
   "source": [
    "# Create model and transforms\n",
    "model, transforms = create_model()\n",
    "model.to(device)\n",
    "\n",
    "# Create loss function and optimizer\n",
    "loss_fn = torch.nn.CrossEntropyLoss()\n",
    "optimizer = torch.optim.Adam(model.parameters(),\n",
    "                             lr=LEARNING_RATE)\n",
    "\n",
    "# Compile the model and time how long it takes\n",
    "compile_start_time = time.time()\n",
    "\n",
    "### New in PyTorch 2.x ###\n",
    "compiled_model = torch.compile(model)\n",
    "##########################\n",
    "\n",
    "compile_end_time = time.time()\n",
    "compile_time = compile_end_time - compile_start_time\n",
    "print(f\"Time to compile: {compile_time} | Note: The first time you compile your model, the first few epochs will be slower than subsequent runs.\")\n",
    "\n",
    "# Train the compiled model\n",
    "single_run_compile_results = train(model=compiled_model,\n",
    "                                   train_dataloader=train_dataloader,\n",
    "                                   test_dataloader=test_dataloader,\n",
    "                                   loss_fn=loss_fn,\n",
    "                                   optimizer=optimizer,\n",
    "                                   epochs=NUM_EPOCHS,\n",
    "                                   device=device)"
   ]
  },
  {
   "cell_type": "code",
   "execution_count": 26,
   "id": "67381172-d1b9-4bcf-b527-c284660c2319",
   "metadata": {},
   "outputs": [],
   "source": [
    "# Turn experiment results into dataframes\n",
    "import pandas as pd\n",
    "single_run_no_compile_results_df = pd.DataFrame(single_run_no_compile_results)\n",
    "single_run_compile_results_df = pd.DataFrame(single_run_compile_results)"
   ]
  },
  {
   "cell_type": "code",
   "execution_count": 27,
   "id": "d1d8cba1-2487-4b68-bcc9-c7fad0f82bd5",
   "metadata": {},
   "outputs": [
    {
     "data": {
      "text/html": [
       "<div>\n",
       "<style scoped>\n",
       "    .dataframe tbody tr th:only-of-type {\n",
       "        vertical-align: middle;\n",
       "    }\n",
       "\n",
       "    .dataframe tbody tr th {\n",
       "        vertical-align: top;\n",
       "    }\n",
       "\n",
       "    .dataframe thead th {\n",
       "        text-align: right;\n",
       "    }\n",
       "</style>\n",
       "<table border=\"1\" class=\"dataframe\">\n",
       "  <thead>\n",
       "    <tr style=\"text-align: right;\">\n",
       "      <th></th>\n",
       "      <th>train_loss</th>\n",
       "      <th>train_acc</th>\n",
       "      <th>test_loss</th>\n",
       "      <th>test_acc</th>\n",
       "      <th>train_epoch_time</th>\n",
       "      <th>test_epoch_time</th>\n",
       "    </tr>\n",
       "  </thead>\n",
       "  <tbody>\n",
       "    <tr>\n",
       "      <th>0</th>\n",
       "      <td>0.805095</td>\n",
       "      <td>0.719345</td>\n",
       "      <td>0.612466</td>\n",
       "      <td>0.789953</td>\n",
       "      <td>76.277267</td>\n",
       "      <td>6.254151</td>\n",
       "    </tr>\n",
       "    <tr>\n",
       "      <th>1</th>\n",
       "      <td>0.446058</td>\n",
       "      <td>0.844985</td>\n",
       "      <td>0.587267</td>\n",
       "      <td>0.807555</td>\n",
       "      <td>76.736292</td>\n",
       "      <td>5.991078</td>\n",
       "    </tr>\n",
       "    <tr>\n",
       "      <th>2</th>\n",
       "      <td>0.322996</td>\n",
       "      <td>0.889622</td>\n",
       "      <td>0.652437</td>\n",
       "      <td>0.794798</td>\n",
       "      <td>75.200715</td>\n",
       "      <td>6.039832</td>\n",
       "    </tr>\n",
       "    <tr>\n",
       "      <th>3</th>\n",
       "      <td>0.242719</td>\n",
       "      <td>0.915905</td>\n",
       "      <td>0.450083</td>\n",
       "      <td>0.853046</td>\n",
       "      <td>75.323152</td>\n",
       "      <td>6.065755</td>\n",
       "    </tr>\n",
       "    <tr>\n",
       "      <th>4</th>\n",
       "      <td>0.182857</td>\n",
       "      <td>0.935698</td>\n",
       "      <td>0.394311</td>\n",
       "      <td>0.873616</td>\n",
       "      <td>75.197695</td>\n",
       "      <td>6.031086</td>\n",
       "    </tr>\n",
       "  </tbody>\n",
       "</table>\n",
       "</div>"
      ],
      "text/plain": [
       "   train_loss  train_acc  test_loss  test_acc  train_epoch_time  \\\n",
       "0    0.805095   0.719345   0.612466  0.789953         76.277267   \n",
       "1    0.446058   0.844985   0.587267  0.807555         76.736292   \n",
       "2    0.322996   0.889622   0.652437  0.794798         75.200715   \n",
       "3    0.242719   0.915905   0.450083  0.853046         75.323152   \n",
       "4    0.182857   0.935698   0.394311  0.873616         75.197695   \n",
       "\n",
       "   test_epoch_time  \n",
       "0         6.254151  \n",
       "1         5.991078  \n",
       "2         6.039832  \n",
       "3         6.065755  \n",
       "4         6.031086  "
      ]
     },
     "execution_count": 27,
     "metadata": {},
     "output_type": "execute_result"
    }
   ],
   "source": [
    "# Check out the head of one of the results dataframes\n",
    "single_run_no_compile_results_df.head()"
   ]
  },
  {
   "cell_type": "code",
   "execution_count": 28,
   "id": "593de600-7ee4-4a39-9e0f-0aeccb4995ad",
   "metadata": {},
   "outputs": [
    {
     "data": {
      "text/html": [
       "<div>\n",
       "<style scoped>\n",
       "    .dataframe tbody tr th:only-of-type {\n",
       "        vertical-align: middle;\n",
       "    }\n",
       "\n",
       "    .dataframe tbody tr th {\n",
       "        vertical-align: top;\n",
       "    }\n",
       "\n",
       "    .dataframe thead th {\n",
       "        text-align: right;\n",
       "    }\n",
       "</style>\n",
       "<table border=\"1\" class=\"dataframe\">\n",
       "  <thead>\n",
       "    <tr style=\"text-align: right;\">\n",
       "      <th></th>\n",
       "      <th>train_loss</th>\n",
       "      <th>train_acc</th>\n",
       "      <th>test_loss</th>\n",
       "      <th>test_acc</th>\n",
       "      <th>train_epoch_time</th>\n",
       "      <th>test_epoch_time</th>\n",
       "    </tr>\n",
       "  </thead>\n",
       "  <tbody>\n",
       "    <tr>\n",
       "      <th>0</th>\n",
       "      <td>0.801652</td>\n",
       "      <td>0.721567</td>\n",
       "      <td>0.792075</td>\n",
       "      <td>0.734771</td>\n",
       "      <td>93.556742</td>\n",
       "      <td>12.312318</td>\n",
       "    </tr>\n",
       "    <tr>\n",
       "      <th>1</th>\n",
       "      <td>0.443800</td>\n",
       "      <td>0.845444</td>\n",
       "      <td>0.618584</td>\n",
       "      <td>0.794699</td>\n",
       "      <td>66.947198</td>\n",
       "      <td>4.846824</td>\n",
       "    </tr>\n",
       "    <tr>\n",
       "      <th>2</th>\n",
       "      <td>0.316878</td>\n",
       "      <td>0.889586</td>\n",
       "      <td>0.457318</td>\n",
       "      <td>0.850771</td>\n",
       "      <td>66.888077</td>\n",
       "      <td>4.823914</td>\n",
       "    </tr>\n",
       "    <tr>\n",
       "      <th>3</th>\n",
       "      <td>0.236868</td>\n",
       "      <td>0.917703</td>\n",
       "      <td>0.453184</td>\n",
       "      <td>0.849387</td>\n",
       "      <td>66.648502</td>\n",
       "      <td>4.823147</td>\n",
       "    </tr>\n",
       "    <tr>\n",
       "      <th>4</th>\n",
       "      <td>0.175631</td>\n",
       "      <td>0.938799</td>\n",
       "      <td>0.395486</td>\n",
       "      <td>0.876483</td>\n",
       "      <td>66.645042</td>\n",
       "      <td>4.835504</td>\n",
       "    </tr>\n",
       "  </tbody>\n",
       "</table>\n",
       "</div>"
      ],
      "text/plain": [
       "   train_loss  train_acc  test_loss  test_acc  train_epoch_time  \\\n",
       "0    0.801652   0.721567   0.792075  0.734771         93.556742   \n",
       "1    0.443800   0.845444   0.618584  0.794699         66.947198   \n",
       "2    0.316878   0.889586   0.457318  0.850771         66.888077   \n",
       "3    0.236868   0.917703   0.453184  0.849387         66.648502   \n",
       "4    0.175631   0.938799   0.395486  0.876483         66.645042   \n",
       "\n",
       "   test_epoch_time  \n",
       "0        12.312318  \n",
       "1         4.846824  \n",
       "2         4.823914  \n",
       "3         4.823147  \n",
       "4         4.835504  "
      ]
     },
     "execution_count": 28,
     "metadata": {},
     "output_type": "execute_result"
    }
   ],
   "source": [
    "single_run_compile_results_df.head()"
   ]
  },
  {
   "cell_type": "code",
   "execution_count": 29,
   "id": "98f88f29-a254-4282-bb40-6b4c21d1ab4b",
   "metadata": {},
   "outputs": [],
   "source": [
    "# Create filename to save the results\n",
    "DATASET_NAME = \"CIFAR10\"\n",
    "MODEL_NAME = \"ResNet50\""
   ]
  },
  {
   "cell_type": "code",
   "execution_count": 30,
   "id": "b58380df-3a2c-457d-a863-825b1934224a",
   "metadata": {},
   "outputs": [],
   "source": [
    "import matplotlib.pyplot as plt\n",
    "import numpy as np\n",
    "\n",
    "def plot_mean_epoch_times(non_compiled_results: pd.DataFrame, \n",
    "                          compiled_results: pd.DataFrame, \n",
    "                          multi_runs: bool=False, \n",
    "                          num_runs: int=0, \n",
    "                          save: bool=False, \n",
    "                          save_path: str=\"\",\n",
    "                          dataset_name: str=DATASET_NAME,\n",
    "                          model_name: str=MODEL_NAME,\n",
    "                          num_epochs: int=NUM_EPOCHS,\n",
    "                          image_size: int=IMAGE_SIZE,\n",
    "                          batch_size: int=BATCH_SIZE) -> plt.figure:\n",
    "    \n",
    "    # Get the mean epoch times from the non-compiled models\n",
    "    mean_train_epoch_time = non_compiled_results.train_epoch_time.mean()\n",
    "    mean_test_epoch_time = non_compiled_results.test_epoch_time.mean()\n",
    "    mean_results = [mean_train_epoch_time, mean_test_epoch_time]\n",
    "\n",
    "    # Get the mean epoch times from the compiled models\n",
    "    mean_compile_train_epoch_time = compiled_results.train_epoch_time.mean()\n",
    "    mean_compile_test_epoch_time = compiled_results.test_epoch_time.mean()\n",
    "    mean_compile_results = [mean_compile_train_epoch_time, mean_compile_test_epoch_time]\n",
    "\n",
    "    # Calculate the percentage difference between the mean compile and non-compile train epoch times\n",
    "    train_epoch_time_diff = mean_compile_train_epoch_time - mean_train_epoch_time\n",
    "    train_epoch_time_diff_percent = (train_epoch_time_diff / mean_train_epoch_time) * 100\n",
    "\n",
    "    # Calculate the percentage difference between the mean compile and non-compile test epoch times\n",
    "    test_epoch_time_diff = mean_compile_test_epoch_time - mean_test_epoch_time\n",
    "    test_epoch_time_diff_percent = (test_epoch_time_diff / mean_test_epoch_time) * 100\n",
    "\n",
    "    # Print the mean difference percentages\n",
    "    print(f\"Mean train epoch time difference: {round(train_epoch_time_diff_percent, 3)}% (negative means faster)\")\n",
    "    print(f\"Mean test epoch time difference: {round(test_epoch_time_diff_percent, 3)}% (negative means faster)\")\n",
    "\n",
    "    # Create a bar plot of the mean train and test epoch time for both compiled and non-compiled models\n",
    "    plt.figure(figsize=(10, 7))\n",
    "    width = 0.3\n",
    "    x_indicies = np.arange(len(mean_results))\n",
    "\n",
    "    plt.bar(x=x_indicies, height=mean_results, width=width, label=\"non_compiled_results\")\n",
    "    plt.bar(x=x_indicies + width, height=mean_compile_results, width=width, label=\"compiled_results\")\n",
    "    plt.xticks(x_indicies + width / 2, (\"Train Epoch\", \"Test Epoch\"))\n",
    "    plt.ylabel(\"Mean epoch time (seconds, lower is better)\")\n",
    "\n",
    "    # Create the title based on the parameters passed to the function\n",
    "    if multi_runs:\n",
    "        plt.suptitle(\"Multiple run results\")\n",
    "        plt.title(f\"GPU: {gpu_name} | Epochs: {num_epochs} ({num_runs} runs) | Data: {dataset_name} | Model: {model_name} | Image size: {image_size} | Batch size: {batch_size}\")\n",
    "    else:\n",
    "        plt.suptitle(\"Single run results\")\n",
    "        plt.title(f\"GPU: {gpu_name} | Epochs: {num_epochs} | Data: {dataset_name} | Model: {model_name} | Image size: {image_size} | Batch size: {batch_size}\")\n",
    "    plt.legend();\n",
    "\n",
    "    # Save the figure\n",
    "    if save:\n",
    "        assert save_path != \"\", \"Please specify a save path to save the model figure to via the save_path parameter.\"\n",
    "        plt.savefig(save_path)\n",
    "        print(f\"[INFO] Plot saved to {save_path}\")"
   ]
  },
  {
   "cell_type": "code",
   "execution_count": 31,
   "id": "fec12e41-6874-4fc8-a8f9-592eb03fb3a1",
   "metadata": {},
   "outputs": [
    {
     "name": "stdout",
     "output_type": "stream",
     "text": [
      "[INFO] Save path for single run results: pytorch_2_results/figures/single_run_NVIDIA_GeForce_RTX_4090_ResNet50_CIFAR10_224_train_epoch_time.png\n",
      "Mean train epoch time difference: -4.766% (negative means faster)\n",
      "Mean test epoch time difference: 4.147% (negative means faster)\n",
      "[INFO] Plot saved to pytorch_2_results/figures/single_run_NVIDIA_GeForce_RTX_4090_ResNet50_CIFAR10_224_train_epoch_time.png\n"
     ]
    },
    {
     "data": {
      "image/png": "[encoded data removed]",
      "text/plain": [
       "<Figure size 1000x700 with 1 Axes>"
      ]
     },
     "metadata": {},
     "output_type": "display_data"
    }
   ],
   "source": [
    "# Create directory for saving figures\n",
    "import os\n",
    "dir_to_save_figures_in = \"pytorch_2_results/figures/\" \n",
    "os.makedirs(dir_to_save_figures_in, exist_ok=True)\n",
    "\n",
    "# Create a save path for the single run results\n",
    "save_path_multi_run = f\"{dir_to_save_figures_in}single_run_{GPU_NAME}_{MODEL_NAME}_{DATASET_NAME}_{IMAGE_SIZE}_train_epoch_time.png\"\n",
    "print(f\"[INFO] Save path for single run results: {save_path_multi_run}\")\n",
    "\n",
    "# Plot the results and save the figures\n",
    "plot_mean_epoch_times(non_compiled_results=single_run_no_compile_results_df, \n",
    "                      compiled_results=single_run_compile_results_df, \n",
    "                      multi_runs=False, \n",
    "                      save_path=save_path_multi_run, \n",
    "                      save=True)"
   ]
  },
  {
   "cell_type": "code",
   "execution_count": 32,
   "id": "e45feb78-eccf-4861-9740-ad67db5e9214",
   "metadata": {},
   "outputs": [
    {
     "name": "stdout",
     "output_type": "stream",
     "text": [
      "[INFO] Saving non-compiled experiment 1 results to: pytorch_2_results/single_run_results/single_run_non_compiled_results_CIFAR10_ResNet50_NVIDIA_GeForce_RTX_4090.csv\n",
      "[INFO] Saving compiled experiment 2 results to: pytorch_2_results/single_run_results/single_run_compiled_results_CIFAR10_ResNet50_NVIDIA_GeForce_RTX_4090.csv\n"
     ]
    }
   ],
   "source": [
    "# Make a directory for single_run results\n",
    "import os\n",
    "pytorch_2_results_dir = \"pytorch_2_results\"\n",
    "pytorch_2_single_run_results_dir = f\"{pytorch_2_results_dir}/single_run_results\"\n",
    "os.makedirs(pytorch_2_single_run_results_dir, exist_ok=True)\n",
    "\n",
    "# Create filenames for each of the dataframes\n",
    "save_name_for_non_compiled_results = f\"single_run_non_compiled_results_{DATASET_NAME}_{MODEL_NAME}_{GPU_NAME}.csv\"\n",
    "save_name_for_compiled_results = f\"single_run_compiled_results_{DATASET_NAME}_{MODEL_NAME}_{GPU_NAME}.csv\"\n",
    "\n",
    "# Create filepaths to save the results to\n",
    "single_run_no_compile_save_path = f\"{pytorch_2_single_run_results_dir}/{save_name_for_non_compiled_results}\"\n",
    "single_run_compile_save_path = f\"{pytorch_2_single_run_results_dir}/{save_name_for_compiled_results}\"\n",
    "print(f\"[INFO] Saving non-compiled experiment 1 results to: {single_run_no_compile_save_path}\")\n",
    "print(f\"[INFO] Saving compiled experiment 2 results to: {single_run_compile_save_path}\")\n",
    "\n",
    "# Save the results\n",
    "single_run_no_compile_results_df.to_csv(single_run_no_compile_save_path)\n",
    "single_run_compile_results_df.to_csv(single_run_compile_save_path)"
   ]
  },
  {
   "cell_type": "code",
   "execution_count": 33,
   "id": "e2c95985-a0bf-4a7d-b89f-30569781de13",
   "metadata": {},
   "outputs": [],
   "source": [
    "def create_and_train_non_compiled_model(epochs=NUM_EPOCHS, \n",
    "                                        learning_rate=LEARNING_RATE, \n",
    "                                        disable_progress_bar=False):\n",
    "    \"\"\"\n",
    "    Create and train a non-compiled PyTorch model.\n",
    "    \"\"\"\n",
    "    model, _ = create_model()\n",
    "    model.to(device)\n",
    "\n",
    "    loss_fn = torch.nn.CrossEntropyLoss()\n",
    "    optimizer = torch.optim.Adam(model.parameters(),\n",
    "                                 lr=learning_rate)\n",
    "\n",
    "    results = train(model=model,\n",
    "                    train_dataloader=train_dataloader,\n",
    "                    test_dataloader=test_dataloader,\n",
    "                    loss_fn=loss_fn,\n",
    "                    optimizer=optimizer,\n",
    "                    epochs=epochs,\n",
    "                    device=device,\n",
    "                    disable_progress_bar=disable_progress_bar)\n",
    "    return results\n",
    "\n",
    "def create_compiled_model():\n",
    "    \"\"\"\n",
    "    Create a compiled PyTorch model and return it.\n",
    "    \"\"\"\n",
    "    model, _ = create_model()\n",
    "    model.to(device)\n",
    "    \n",
    "    compile_start_time = time.time()\n",
    "    ### New in PyTorch 2.x ###\n",
    "    compiled_model = torch.compile(model)\n",
    "    ##########################\n",
    "    compile_end_time = time.time()\n",
    "\n",
    "    compile_time = compile_end_time - compile_start_time\n",
    "\n",
    "    print(f\"Time to compile: {compile_time} | Note: The first time you compile your model, the first few epochs will be slower than subsequent runs.\")\n",
    "    return compiled_model\n",
    "\n",
    "def train_compiled_model(model=compiled_model, \n",
    "                         epochs=NUM_EPOCHS, \n",
    "                         learning_rate=LEARNING_RATE,\n",
    "                         disable_progress_bar=False):\n",
    "    \"\"\"\n",
    "    Train a compiled model and return the results.\n",
    "    \"\"\"\n",
    "    loss_fn = torch.nn.CrossEntropyLoss()\n",
    "    optimizer = torch.optim.Adam(compiled_model.parameters(),\n",
    "                                 lr=learning_rate)\n",
    "    \n",
    "    compile_results = train(model=model,\n",
    "                            train_dataloader=train_dataloader,\n",
    "                            test_dataloader=test_dataloader,\n",
    "                            loss_fn=loss_fn,\n",
    "                            optimizer=optimizer,\n",
    "                            epochs=epochs,\n",
    "                            device=device,\n",
    "                            disable_progress_bar=disable_progress_bar)\n",
    "    \n",
    "    return compile_results"
   ]
  },
  {
   "cell_type": "code",
   "execution_count": 34,
   "id": "aeb3445a-8f33-4f87-92e9-0c901afc05af",
   "metadata": {},
   "outputs": [
    {
     "data": {
      "application/vnd.jupyter.widget-view+json": {
       "model_id": "ac5a8a00d54441899ea3f415702d4bfc",
       "version_major": 2,
       "version_minor": 0
      },
      "text/plain": [
       "  0%|          | 0/3 [00:00<?, ?it/s]"
      ]
     },
     "metadata": {},
     "output_type": "display_data"
    },
    {
     "name": "stdout",
     "output_type": "stream",
     "text": [
      "[INFO] Run 1 of 3 for non-compiled model\n",
      "Epoch: 1 | train_loss: 0.7868 | train_acc: 0.7292 | test_loss: 0.6733 | test_acc: 0.7662 | train_epoch_time: 76.4905 | test_epoch_time: 6.2236\n",
      "Epoch: 2 | train_loss: 0.4339 | train_acc: 0.8500 | test_loss: 0.5578 | test_acc: 0.8079 | train_epoch_time: 76.9883 | test_epoch_time: 6.1521\n",
      "Epoch: 3 | train_loss: 0.3188 | train_acc: 0.8887 | test_loss: 0.4318 | test_acc: 0.8506 | train_epoch_time: 75.5807 | test_epoch_time: 6.0864\n",
      "Epoch: 4 | train_loss: 0.2285 | train_acc: 0.9209 | test_loss: 0.3784 | test_acc: 0.8751 | train_epoch_time: 75.2958 | test_epoch_time: 6.0950\n",
      "Epoch: 5 | train_loss: 0.1706 | train_acc: 0.9405 | test_loss: 0.3883 | test_acc: 0.8741 | train_epoch_time: 75.2721 | test_epoch_time: 6.0560\n",
      "[INFO] Run 2 of 3 for non-compiled model\n",
      "Epoch: 1 | train_loss: 0.7849 | train_acc: 0.7277 | test_loss: 0.8263 | test_acc: 0.7251 | train_epoch_time: 75.1225 | test_epoch_time: 6.0376\n",
      "Epoch: 2 | train_loss: 0.4406 | train_acc: 0.8488 | test_loss: 0.4966 | test_acc: 0.8348 | train_epoch_time: 75.3060 | test_epoch_time: 6.0407\n",
      "Epoch: 3 | train_loss: 0.3121 | train_acc: 0.8921 | test_loss: 0.5001 | test_acc: 0.8412 | train_epoch_time: 75.8035 | test_epoch_time: 6.1025\n",
      "Epoch: 4 | train_loss: 0.2353 | train_acc: 0.9180 | test_loss: 0.3866 | test_acc: 0.8721 | train_epoch_time: 75.9459 | test_epoch_time: 6.1986\n",
      "Epoch: 5 | train_loss: 0.1737 | train_acc: 0.9388 | test_loss: 0.4286 | test_acc: 0.8684 | train_epoch_time: 76.0287 | test_epoch_time: 6.1135\n",
      "[INFO] Run 3 of 3 for non-compiled model\n",
      "Epoch: 1 | train_loss: 0.7778 | train_acc: 0.7317 | test_loss: 0.7263 | test_acc: 0.7472 | train_epoch_time: 75.5365 | test_epoch_time: 6.0892\n",
      "Epoch: 2 | train_loss: 0.4334 | train_acc: 0.8513 | test_loss: 0.5162 | test_acc: 0.8340 | train_epoch_time: 75.6572 | test_epoch_time: 6.1209\n",
      "Epoch: 3 | train_loss: 0.3139 | train_acc: 0.8916 | test_loss: 0.4366 | test_acc: 0.8491 | train_epoch_time: 76.5215 | test_epoch_time: 6.1641\n",
      "Epoch: 4 | train_loss: 0.2331 | train_acc: 0.9189 | test_loss: 0.3941 | test_acc: 0.8665 | train_epoch_time: 77.3750 | test_epoch_time: 6.0458\n",
      "Epoch: 5 | train_loss: 0.1702 | train_acc: 0.9408 | test_loss: 0.3613 | test_acc: 0.8771 | train_epoch_time: 75.6079 | test_epoch_time: 6.1451\n"
     ]
    }
   ],
   "source": [
    "# Run non-compiled model for multiple runs\n",
    "NUM_RUNS = 3\n",
    "NUM_EPOCHS = 5\n",
    "\n",
    "# Create an empty list to store multiple run results\n",
    "non_compile_results_multiple_runs = []\n",
    "\n",
    "# Run non-compiled model for multiple runs\n",
    "for i in tqdm(range(NUM_RUNS)):\n",
    "    print(f\"[INFO] Run {i+1} of {NUM_RUNS} for non-compiled model\")\n",
    "    results = create_and_train_non_compiled_model(epochs=NUM_EPOCHS, disable_progress_bar=True)\n",
    "    non_compile_results_multiple_runs.append(results)"
   ]
  },
  {
   "cell_type": "code",
   "execution_count": 35,
   "id": "b2c11aff-c7bc-4edf-9e4a-52e4a903f719",
   "metadata": {},
   "outputs": [
    {
     "data": {
      "text/html": [
       "<div>\n",
       "<style scoped>\n",
       "    .dataframe tbody tr th:only-of-type {\n",
       "        vertical-align: middle;\n",
       "    }\n",
       "\n",
       "    .dataframe tbody tr th {\n",
       "        vertical-align: top;\n",
       "    }\n",
       "\n",
       "    .dataframe thead th {\n",
       "        text-align: right;\n",
       "    }\n",
       "</style>\n",
       "<table border=\"1\" class=\"dataframe\">\n",
       "  <thead>\n",
       "    <tr style=\"text-align: right;\">\n",
       "      <th></th>\n",
       "      <th>train_loss</th>\n",
       "      <th>train_acc</th>\n",
       "      <th>test_loss</th>\n",
       "      <th>test_acc</th>\n",
       "      <th>train_epoch_time</th>\n",
       "      <th>test_epoch_time</th>\n",
       "    </tr>\n",
       "  </thead>\n",
       "  <tbody>\n",
       "    <tr>\n",
       "      <th>0</th>\n",
       "      <td>0.786795</td>\n",
       "      <td>0.729188</td>\n",
       "      <td>0.673341</td>\n",
       "      <td>0.766218</td>\n",
       "      <td>76.490460</td>\n",
       "      <td>6.223612</td>\n",
       "    </tr>\n",
       "    <tr>\n",
       "      <th>1</th>\n",
       "      <td>0.433911</td>\n",
       "      <td>0.849996</td>\n",
       "      <td>0.557825</td>\n",
       "      <td>0.807852</td>\n",
       "      <td>76.988336</td>\n",
       "      <td>6.152137</td>\n",
       "    </tr>\n",
       "    <tr>\n",
       "      <th>2</th>\n",
       "      <td>0.318805</td>\n",
       "      <td>0.888743</td>\n",
       "      <td>0.431848</td>\n",
       "      <td>0.850574</td>\n",
       "      <td>75.580699</td>\n",
       "      <td>6.086446</td>\n",
       "    </tr>\n",
       "    <tr>\n",
       "      <th>3</th>\n",
       "      <td>0.228476</td>\n",
       "      <td>0.920864</td>\n",
       "      <td>0.378354</td>\n",
       "      <td>0.875099</td>\n",
       "      <td>75.295840</td>\n",
       "      <td>6.095031</td>\n",
       "    </tr>\n",
       "    <tr>\n",
       "      <th>4</th>\n",
       "      <td>0.170631</td>\n",
       "      <td>0.940509</td>\n",
       "      <td>0.388311</td>\n",
       "      <td>0.874110</td>\n",
       "      <td>75.272077</td>\n",
       "      <td>6.055991</td>\n",
       "    </tr>\n",
       "    <tr>\n",
       "      <th>0</th>\n",
       "      <td>0.784903</td>\n",
       "      <td>0.727693</td>\n",
       "      <td>0.826308</td>\n",
       "      <td>0.725079</td>\n",
       "      <td>75.122478</td>\n",
       "      <td>6.037605</td>\n",
       "    </tr>\n",
       "    <tr>\n",
       "      <th>1</th>\n",
       "      <td>0.440597</td>\n",
       "      <td>0.848849</td>\n",
       "      <td>0.496616</td>\n",
       "      <td>0.834751</td>\n",
       "      <td>75.305992</td>\n",
       "      <td>6.040748</td>\n",
       "    </tr>\n",
       "    <tr>\n",
       "      <th>2</th>\n",
       "      <td>0.312059</td>\n",
       "      <td>0.892108</td>\n",
       "      <td>0.500058</td>\n",
       "      <td>0.841179</td>\n",
       "      <td>75.803494</td>\n",
       "      <td>6.102520</td>\n",
       "    </tr>\n",
       "    <tr>\n",
       "      <th>3</th>\n",
       "      <td>0.235292</td>\n",
       "      <td>0.918043</td>\n",
       "      <td>0.386566</td>\n",
       "      <td>0.872132</td>\n",
       "      <td>75.945858</td>\n",
       "      <td>6.198591</td>\n",
       "    </tr>\n",
       "    <tr>\n",
       "      <th>4</th>\n",
       "      <td>0.173718</td>\n",
       "      <td>0.938791</td>\n",
       "      <td>0.428564</td>\n",
       "      <td>0.868374</td>\n",
       "      <td>76.028689</td>\n",
       "      <td>6.113453</td>\n",
       "    </tr>\n",
       "    <tr>\n",
       "      <th>0</th>\n",
       "      <td>0.777808</td>\n",
       "      <td>0.731726</td>\n",
       "      <td>0.726269</td>\n",
       "      <td>0.747231</td>\n",
       "      <td>75.536450</td>\n",
       "      <td>6.089193</td>\n",
       "    </tr>\n",
       "    <tr>\n",
       "      <th>1</th>\n",
       "      <td>0.433393</td>\n",
       "      <td>0.851259</td>\n",
       "      <td>0.516232</td>\n",
       "      <td>0.833960</td>\n",
       "      <td>75.657224</td>\n",
       "      <td>6.120879</td>\n",
       "    </tr>\n",
       "    <tr>\n",
       "      <th>2</th>\n",
       "      <td>0.313922</td>\n",
       "      <td>0.891552</td>\n",
       "      <td>0.436574</td>\n",
       "      <td>0.849090</td>\n",
       "      <td>76.521455</td>\n",
       "      <td>6.164129</td>\n",
       "    </tr>\n",
       "    <tr>\n",
       "      <th>3</th>\n",
       "      <td>0.233130</td>\n",
       "      <td>0.918890</td>\n",
       "      <td>0.394114</td>\n",
       "      <td>0.866495</td>\n",
       "      <td>77.375006</td>\n",
       "      <td>6.045778</td>\n",
       "    </tr>\n",
       "    <tr>\n",
       "      <th>4</th>\n",
       "      <td>0.170213</td>\n",
       "      <td>0.940837</td>\n",
       "      <td>0.361331</td>\n",
       "      <td>0.877077</td>\n",
       "      <td>75.607877</td>\n",
       "      <td>6.145055</td>\n",
       "    </tr>\n",
       "  </tbody>\n",
       "</table>\n",
       "</div>"
      ],
      "text/plain": [
       "   train_loss  train_acc  test_loss  test_acc  train_epoch_time  \\\n",
       "0    0.786795   0.729188   0.673341  0.766218         76.490460   \n",
       "1    0.433911   0.849996   0.557825  0.807852         76.988336   \n",
       "2    0.318805   0.888743   0.431848  0.850574         75.580699   \n",
       "3    0.228476   0.920864   0.378354  0.875099         75.295840   \n",
       "4    0.170631   0.940509   0.388311  0.874110         75.272077   \n",
       "0    0.784903   0.727693   0.826308  0.725079         75.122478   \n",
       "1    0.440597   0.848849   0.496616  0.834751         75.305992   \n",
       "2    0.312059   0.892108   0.500058  0.841179         75.803494   \n",
       "3    0.235292   0.918043   0.386566  0.872132         75.945858   \n",
       "4    0.173718   0.938791   0.428564  0.868374         76.028689   \n",
       "0    0.777808   0.731726   0.726269  0.747231         75.536450   \n",
       "1    0.433393   0.851259   0.516232  0.833960         75.657224   \n",
       "2    0.313922   0.891552   0.436574  0.849090         76.521455   \n",
       "3    0.233130   0.918890   0.394114  0.866495         77.375006   \n",
       "4    0.170213   0.940837   0.361331  0.877077         75.607877   \n",
       "\n",
       "   test_epoch_time  \n",
       "0         6.223612  \n",
       "1         6.152137  \n",
       "2         6.086446  \n",
       "3         6.095031  \n",
       "4         6.055991  \n",
       "0         6.037605  \n",
       "1         6.040748  \n",
       "2         6.102520  \n",
       "3         6.198591  \n",
       "4         6.113453  \n",
       "0         6.089193  \n",
       "1         6.120879  \n",
       "2         6.164129  \n",
       "3         6.045778  \n",
       "4         6.145055  "
      ]
     },
     "execution_count": 35,
     "metadata": {},
     "output_type": "execute_result"
    }
   ],
   "source": [
    "# Go through non_compile_results_multiple_runs and create a dataframe for each run then concatenate them together\n",
    "non_compile_results_dfs = []\n",
    "for result in non_compile_results_multiple_runs:\n",
    "    result_df = pd.DataFrame(result)\n",
    "    non_compile_results_dfs.append(result_df)\n",
    "non_compile_results_multiple_runs_df = pd.concat(non_compile_results_dfs)\n",
    "non_compile_results_multiple_runs_df"
   ]
  },
  {
   "cell_type": "code",
   "execution_count": 36,
   "id": "1e32d6b8-74d5-4fe5-9bac-7858087a7862",
   "metadata": {},
   "outputs": [
    {
     "data": {
      "text/html": [
       "<div>\n",
       "<style scoped>\n",
       "    .dataframe tbody tr th:only-of-type {\n",
       "        vertical-align: middle;\n",
       "    }\n",
       "\n",
       "    .dataframe tbody tr th {\n",
       "        vertical-align: top;\n",
       "    }\n",
       "\n",
       "    .dataframe thead th {\n",
       "        text-align: right;\n",
       "    }\n",
       "</style>\n",
       "<table border=\"1\" class=\"dataframe\">\n",
       "  <thead>\n",
       "    <tr style=\"text-align: right;\">\n",
       "      <th></th>\n",
       "      <th>train_loss</th>\n",
       "      <th>train_acc</th>\n",
       "      <th>test_loss</th>\n",
       "      <th>test_acc</th>\n",
       "      <th>train_epoch_time</th>\n",
       "      <th>test_epoch_time</th>\n",
       "    </tr>\n",
       "  </thead>\n",
       "  <tbody>\n",
       "    <tr>\n",
       "      <th>0</th>\n",
       "      <td>0.783169</td>\n",
       "      <td>0.729536</td>\n",
       "      <td>0.741973</td>\n",
       "      <td>0.746176</td>\n",
       "      <td>75.716463</td>\n",
       "      <td>6.116803</td>\n",
       "    </tr>\n",
       "    <tr>\n",
       "      <th>1</th>\n",
       "      <td>0.435967</td>\n",
       "      <td>0.850035</td>\n",
       "      <td>0.523557</td>\n",
       "      <td>0.825521</td>\n",
       "      <td>75.983851</td>\n",
       "      <td>6.104588</td>\n",
       "    </tr>\n",
       "    <tr>\n",
       "      <th>2</th>\n",
       "      <td>0.314928</td>\n",
       "      <td>0.890801</td>\n",
       "      <td>0.456160</td>\n",
       "      <td>0.846948</td>\n",
       "      <td>75.968549</td>\n",
       "      <td>6.117698</td>\n",
       "    </tr>\n",
       "    <tr>\n",
       "      <th>3</th>\n",
       "      <td>0.232299</td>\n",
       "      <td>0.919266</td>\n",
       "      <td>0.386345</td>\n",
       "      <td>0.871242</td>\n",
       "      <td>76.205568</td>\n",
       "      <td>6.113133</td>\n",
       "    </tr>\n",
       "    <tr>\n",
       "      <th>4</th>\n",
       "      <td>0.171521</td>\n",
       "      <td>0.940046</td>\n",
       "      <td>0.392735</td>\n",
       "      <td>0.873187</td>\n",
       "      <td>75.636214</td>\n",
       "      <td>6.104833</td>\n",
       "    </tr>\n",
       "  </tbody>\n",
       "</table>\n",
       "</div>"
      ],
      "text/plain": [
       "   train_loss  train_acc  test_loss  test_acc  train_epoch_time  \\\n",
       "0    0.783169   0.729536   0.741973  0.746176         75.716463   \n",
       "1    0.435967   0.850035   0.523557  0.825521         75.983851   \n",
       "2    0.314928   0.890801   0.456160  0.846948         75.968549   \n",
       "3    0.232299   0.919266   0.386345  0.871242         76.205568   \n",
       "4    0.171521   0.940046   0.392735  0.873187         75.636214   \n",
       "\n",
       "   test_epoch_time  \n",
       "0         6.116803  \n",
       "1         6.104588  \n",
       "2         6.117698  \n",
       "3         6.113133  \n",
       "4         6.104833  "
      ]
     },
     "execution_count": 36,
     "metadata": {},
     "output_type": "execute_result"
    }
   ],
   "source": [
    "# Get the averages across the multiple runs\n",
    "non_compile_results_multiple_runs_df = non_compile_results_multiple_runs_df.groupby(non_compile_results_multiple_runs_df.index).mean()\n",
    "non_compile_results_multiple_runs_df"
   ]
  },
  {
   "cell_type": "code",
   "execution_count": 37,
   "id": "03ec2d5f-f3ab-4cfa-b8cb-0f18e9091f8e",
   "metadata": {},
   "outputs": [
    {
     "name": "stdout",
     "output_type": "stream",
     "text": [
      "Time to compile: 0.0003705024719238281 | Note: The first time you compile your model, the first few epochs will be slower than subsequent runs.\n"
     ]
    },
    {
     "data": {
      "application/vnd.jupyter.widget-view+json": {
       "model_id": "54e62af225f2455a8fa238b7471d08e6",
       "version_major": 2,
       "version_minor": 0
      },
      "text/plain": [
       "  0%|          | 0/3 [00:00<?, ?it/s]"
      ]
     },
     "metadata": {},
     "output_type": "display_data"
    },
    {
     "name": "stdout",
     "output_type": "stream",
     "text": [
      "[INFO] Run 1 of 3 for compiled model\n",
      "Epoch: 1 | train_loss: 0.7878 | train_acc: 0.7269 | test_loss: 0.6773 | test_acc: 0.7683 | train_epoch_time: 85.6216 | test_epoch_time: 9.8007\n",
      "Epoch: 2 | train_loss: 0.4309 | train_acc: 0.8519 | test_loss: 0.5041 | test_acc: 0.8306 | train_epoch_time: 66.0778 | test_epoch_time: 4.6948\n",
      "Epoch: 3 | train_loss: 0.3128 | train_acc: 0.8908 | test_loss: 0.4046 | test_acc: 0.8665 | train_epoch_time: 66.5025 | test_epoch_time: 4.7814\n",
      "Epoch: 4 | train_loss: 0.2349 | train_acc: 0.9186 | test_loss: 0.4996 | test_acc: 0.8365 | train_epoch_time: 67.1311 | test_epoch_time: 4.8166\n",
      "Epoch: 5 | train_loss: 0.1817 | train_acc: 0.9362 | test_loss: 0.3733 | test_acc: 0.8798 | train_epoch_time: 66.6246 | test_epoch_time: 4.7042\n",
      "[INFO] Run 2 of 3 for compiled model\n",
      "Epoch: 1 | train_loss: 0.1946 | train_acc: 0.9320 | test_loss: 0.3654 | test_acc: 0.8866 | train_epoch_time: 66.9027 | test_epoch_time: 4.9273\n",
      "Epoch: 2 | train_loss: 0.1263 | train_acc: 0.9563 | test_loss: 0.3591 | test_acc: 0.8890 | train_epoch_time: 67.2379 | test_epoch_time: 4.8269\n",
      "Epoch: 3 | train_loss: 0.0953 | train_acc: 0.9675 | test_loss: 0.4128 | test_acc: 0.8754 | train_epoch_time: 66.5721 | test_epoch_time: 4.8402\n",
      "Epoch: 4 | train_loss: 0.0731 | train_acc: 0.9747 | test_loss: 0.4222 | test_acc: 0.8899 | train_epoch_time: 67.2221 | test_epoch_time: 4.7752\n",
      "Epoch: 5 | train_loss: 0.0675 | train_acc: 0.9772 | test_loss: 0.4411 | test_acc: 0.8801 | train_epoch_time: 66.0375 | test_epoch_time: 4.7081\n",
      "[INFO] Run 3 of 3 for compiled model\n",
      "Epoch: 1 | train_loss: 0.0705 | train_acc: 0.9757 | test_loss: 0.4413 | test_acc: 0.8829 | train_epoch_time: 66.0006 | test_epoch_time: 4.7547\n",
      "Epoch: 2 | train_loss: 0.0616 | train_acc: 0.9784 | test_loss: 0.5542 | test_acc: 0.8535 | train_epoch_time: 65.6224 | test_epoch_time: 4.7328\n",
      "Epoch: 3 | train_loss: 0.0574 | train_acc: 0.9808 | test_loss: 0.4316 | test_acc: 0.8953 | train_epoch_time: 65.5858 | test_epoch_time: 4.7506\n",
      "Epoch: 4 | train_loss: 0.0291 | train_acc: 0.9898 | test_loss: 0.4482 | test_acc: 0.8972 | train_epoch_time: 65.5331 | test_epoch_time: 4.7688\n",
      "Epoch: 5 | train_loss: 0.0363 | train_acc: 0.9878 | test_loss: 0.4421 | test_acc: 0.8918 | train_epoch_time: 65.8635 | test_epoch_time: 4.7198\n"
     ]
    }
   ],
   "source": [
    "# Create compiled model\n",
    "compiled_model = create_compiled_model()\n",
    "\n",
    "# Create an empty list to store compiled model results\n",
    "compiled_results_multiple_runs = []\n",
    "\n",
    "# Run compiled model for multiple runs\n",
    "for i in tqdm(range(NUM_RUNS)):\n",
    "    print(f\"[INFO] Run {i+1} of {NUM_RUNS} for compiled model\")\n",
    "    # Train the compiled model (note: the model will only be compiled once and then re-used for subsequent runs)\n",
    "    results = train_compiled_model(model=compiled_model, epochs=NUM_EPOCHS, disable_progress_bar=True)\n",
    "    compiled_results_multiple_runs.append(results)"
   ]
  },
  {
   "cell_type": "code",
   "execution_count": 38,
   "id": "23843e87-32e2-4ff7-b5ca-c458860d005e",
   "metadata": {},
   "outputs": [
    {
     "data": {
      "text/html": [
       "<div>\n",
       "<style scoped>\n",
       "    .dataframe tbody tr th:only-of-type {\n",
       "        vertical-align: middle;\n",
       "    }\n",
       "\n",
       "    .dataframe tbody tr th {\n",
       "        vertical-align: top;\n",
       "    }\n",
       "\n",
       "    .dataframe thead th {\n",
       "        text-align: right;\n",
       "    }\n",
       "</style>\n",
       "<table border=\"1\" class=\"dataframe\">\n",
       "  <thead>\n",
       "    <tr style=\"text-align: right;\">\n",
       "      <th></th>\n",
       "      <th>train_loss</th>\n",
       "      <th>train_acc</th>\n",
       "      <th>test_loss</th>\n",
       "      <th>test_acc</th>\n",
       "      <th>train_epoch_time</th>\n",
       "      <th>test_epoch_time</th>\n",
       "    </tr>\n",
       "  </thead>\n",
       "  <tbody>\n",
       "    <tr>\n",
       "      <th>0</th>\n",
       "      <td>0.787800</td>\n",
       "      <td>0.726926</td>\n",
       "      <td>0.677275</td>\n",
       "      <td>0.768295</td>\n",
       "      <td>85.621562</td>\n",
       "      <td>9.800743</td>\n",
       "    </tr>\n",
       "    <tr>\n",
       "      <th>1</th>\n",
       "      <td>0.430861</td>\n",
       "      <td>0.851854</td>\n",
       "      <td>0.504077</td>\n",
       "      <td>0.830597</td>\n",
       "      <td>66.077762</td>\n",
       "      <td>4.694848</td>\n",
       "    </tr>\n",
       "    <tr>\n",
       "      <th>2</th>\n",
       "      <td>0.312821</td>\n",
       "      <td>0.890793</td>\n",
       "      <td>0.404571</td>\n",
       "      <td>0.866495</td>\n",
       "      <td>66.502523</td>\n",
       "      <td>4.781373</td>\n",
       "    </tr>\n",
       "    <tr>\n",
       "      <th>3</th>\n",
       "      <td>0.234913</td>\n",
       "      <td>0.918626</td>\n",
       "      <td>0.499595</td>\n",
       "      <td>0.836531</td>\n",
       "      <td>67.131138</td>\n",
       "      <td>4.816620</td>\n",
       "    </tr>\n",
       "    <tr>\n",
       "      <th>4</th>\n",
       "      <td>0.181731</td>\n",
       "      <td>0.936189</td>\n",
       "      <td>0.373278</td>\n",
       "      <td>0.879846</td>\n",
       "      <td>66.624619</td>\n",
       "      <td>4.704153</td>\n",
       "    </tr>\n",
       "    <tr>\n",
       "      <th>0</th>\n",
       "      <td>0.194568</td>\n",
       "      <td>0.931997</td>\n",
       "      <td>0.365353</td>\n",
       "      <td>0.886570</td>\n",
       "      <td>66.902652</td>\n",
       "      <td>4.927339</td>\n",
       "    </tr>\n",
       "    <tr>\n",
       "      <th>1</th>\n",
       "      <td>0.126297</td>\n",
       "      <td>0.956330</td>\n",
       "      <td>0.359148</td>\n",
       "      <td>0.889043</td>\n",
       "      <td>67.237862</td>\n",
       "      <td>4.826863</td>\n",
       "    </tr>\n",
       "    <tr>\n",
       "      <th>2</th>\n",
       "      <td>0.095301</td>\n",
       "      <td>0.967543</td>\n",
       "      <td>0.412823</td>\n",
       "      <td>0.875396</td>\n",
       "      <td>66.572143</td>\n",
       "      <td>4.840187</td>\n",
       "    </tr>\n",
       "    <tr>\n",
       "      <th>3</th>\n",
       "      <td>0.073089</td>\n",
       "      <td>0.974700</td>\n",
       "      <td>0.422213</td>\n",
       "      <td>0.889933</td>\n",
       "      <td>67.222106</td>\n",
       "      <td>4.775151</td>\n",
       "    </tr>\n",
       "    <tr>\n",
       "      <th>4</th>\n",
       "      <td>0.067497</td>\n",
       "      <td>0.977210</td>\n",
       "      <td>0.441127</td>\n",
       "      <td>0.880142</td>\n",
       "      <td>66.037504</td>\n",
       "      <td>4.708092</td>\n",
       "    </tr>\n",
       "    <tr>\n",
       "      <th>0</th>\n",
       "      <td>0.070495</td>\n",
       "      <td>0.975659</td>\n",
       "      <td>0.441296</td>\n",
       "      <td>0.882911</td>\n",
       "      <td>66.000640</td>\n",
       "      <td>4.754683</td>\n",
       "    </tr>\n",
       "    <tr>\n",
       "      <th>1</th>\n",
       "      <td>0.061555</td>\n",
       "      <td>0.978369</td>\n",
       "      <td>0.554178</td>\n",
       "      <td>0.853540</td>\n",
       "      <td>65.622355</td>\n",
       "      <td>4.732759</td>\n",
       "    </tr>\n",
       "    <tr>\n",
       "      <th>2</th>\n",
       "      <td>0.057406</td>\n",
       "      <td>0.980786</td>\n",
       "      <td>0.431582</td>\n",
       "      <td>0.895273</td>\n",
       "      <td>65.585803</td>\n",
       "      <td>4.750594</td>\n",
       "    </tr>\n",
       "    <tr>\n",
       "      <th>3</th>\n",
       "      <td>0.029078</td>\n",
       "      <td>0.989826</td>\n",
       "      <td>0.448227</td>\n",
       "      <td>0.897152</td>\n",
       "      <td>65.533080</td>\n",
       "      <td>4.768819</td>\n",
       "    </tr>\n",
       "    <tr>\n",
       "      <th>4</th>\n",
       "      <td>0.036322</td>\n",
       "      <td>0.987840</td>\n",
       "      <td>0.442069</td>\n",
       "      <td>0.891812</td>\n",
       "      <td>65.863534</td>\n",
       "      <td>4.719811</td>\n",
       "    </tr>\n",
       "  </tbody>\n",
       "</table>\n",
       "</div>"
      ],
      "text/plain": [
       "   train_loss  train_acc  test_loss  test_acc  train_epoch_time  \\\n",
       "0    0.787800   0.726926   0.677275  0.768295         85.621562   \n",
       "1    0.430861   0.851854   0.504077  0.830597         66.077762   \n",
       "2    0.312821   0.890793   0.404571  0.866495         66.502523   \n",
       "3    0.234913   0.918626   0.499595  0.836531         67.131138   \n",
       "4    0.181731   0.936189   0.373278  0.879846         66.624619   \n",
       "0    0.194568   0.931997   0.365353  0.886570         66.902652   \n",
       "1    0.126297   0.956330   0.359148  0.889043         67.237862   \n",
       "2    0.095301   0.967543   0.412823  0.875396         66.572143   \n",
       "3    0.073089   0.974700   0.422213  0.889933         67.222106   \n",
       "4    0.067497   0.977210   0.441127  0.880142         66.037504   \n",
       "0    0.070495   0.975659   0.441296  0.882911         66.000640   \n",
       "1    0.061555   0.978369   0.554178  0.853540         65.622355   \n",
       "2    0.057406   0.980786   0.431582  0.895273         65.585803   \n",
       "3    0.029078   0.989826   0.448227  0.897152         65.533080   \n",
       "4    0.036322   0.987840   0.442069  0.891812         65.863534   \n",
       "\n",
       "   test_epoch_time  \n",
       "0         9.800743  \n",
       "1         4.694848  \n",
       "2         4.781373  \n",
       "3         4.816620  \n",
       "4         4.704153  \n",
       "0         4.927339  \n",
       "1         4.826863  \n",
       "2         4.840187  \n",
       "3         4.775151  \n",
       "4         4.708092  \n",
       "0         4.754683  \n",
       "1         4.732759  \n",
       "2         4.750594  \n",
       "3         4.768819  \n",
       "4         4.719811  "
      ]
     },
     "execution_count": 38,
     "metadata": {},
     "output_type": "execute_result"
    }
   ],
   "source": [
    "# Go through compile_results_multiple_runs and create a dataframe for each run then concatenate them together\n",
    "compile_results_dfs = []\n",
    "for result in compiled_results_multiple_runs:\n",
    "    result_df = pd.DataFrame(result)\n",
    "    compile_results_dfs.append(result_df)\n",
    "compile_results_multiple_runs_df = pd.concat(compile_results_dfs)\n",
    "compile_results_multiple_runs_df"
   ]
  },
  {
   "cell_type": "code",
   "execution_count": 39,
   "id": "4a6dde60-c895-4bea-bda6-9c41ffc51551",
   "metadata": {},
   "outputs": [
    {
     "data": {
      "text/html": [
       "<div>\n",
       "<style scoped>\n",
       "    .dataframe tbody tr th:only-of-type {\n",
       "        vertical-align: middle;\n",
       "    }\n",
       "\n",
       "    .dataframe tbody tr th {\n",
       "        vertical-align: top;\n",
       "    }\n",
       "\n",
       "    .dataframe thead th {\n",
       "        text-align: right;\n",
       "    }\n",
       "</style>\n",
       "<table border=\"1\" class=\"dataframe\">\n",
       "  <thead>\n",
       "    <tr style=\"text-align: right;\">\n",
       "      <th></th>\n",
       "      <th>train_loss</th>\n",
       "      <th>train_acc</th>\n",
       "      <th>test_loss</th>\n",
       "      <th>test_acc</th>\n",
       "      <th>train_epoch_time</th>\n",
       "      <th>test_epoch_time</th>\n",
       "    </tr>\n",
       "  </thead>\n",
       "  <tbody>\n",
       "    <tr>\n",
       "      <th>0</th>\n",
       "      <td>0.350954</td>\n",
       "      <td>0.878194</td>\n",
       "      <td>0.494641</td>\n",
       "      <td>0.845926</td>\n",
       "      <td>72.841618</td>\n",
       "      <td>6.494255</td>\n",
       "    </tr>\n",
       "    <tr>\n",
       "      <th>1</th>\n",
       "      <td>0.206237</td>\n",
       "      <td>0.928851</td>\n",
       "      <td>0.472468</td>\n",
       "      <td>0.857727</td>\n",
       "      <td>66.312660</td>\n",
       "      <td>4.751490</td>\n",
       "    </tr>\n",
       "    <tr>\n",
       "      <th>2</th>\n",
       "      <td>0.155176</td>\n",
       "      <td>0.946374</td>\n",
       "      <td>0.416325</td>\n",
       "      <td>0.879055</td>\n",
       "      <td>66.220156</td>\n",
       "      <td>4.790718</td>\n",
       "    </tr>\n",
       "    <tr>\n",
       "      <th>3</th>\n",
       "      <td>0.112360</td>\n",
       "      <td>0.961051</td>\n",
       "      <td>0.456679</td>\n",
       "      <td>0.874539</td>\n",
       "      <td>66.628774</td>\n",
       "      <td>4.786863</td>\n",
       "    </tr>\n",
       "    <tr>\n",
       "      <th>4</th>\n",
       "      <td>0.095183</td>\n",
       "      <td>0.967080</td>\n",
       "      <td>0.418824</td>\n",
       "      <td>0.883933</td>\n",
       "      <td>66.175219</td>\n",
       "      <td>4.710686</td>\n",
       "    </tr>\n",
       "  </tbody>\n",
       "</table>\n",
       "</div>"
      ],
      "text/plain": [
       "   train_loss  train_acc  test_loss  test_acc  train_epoch_time  \\\n",
       "0    0.350954   0.878194   0.494641  0.845926         72.841618   \n",
       "1    0.206237   0.928851   0.472468  0.857727         66.312660   \n",
       "2    0.155176   0.946374   0.416325  0.879055         66.220156   \n",
       "3    0.112360   0.961051   0.456679  0.874539         66.628774   \n",
       "4    0.095183   0.967080   0.418824  0.883933         66.175219   \n",
       "\n",
       "   test_epoch_time  \n",
       "0         6.494255  \n",
       "1         4.751490  \n",
       "2         4.790718  \n",
       "3         4.786863  \n",
       "4         4.710686  "
      ]
     },
     "execution_count": 39,
     "metadata": {},
     "output_type": "execute_result"
    }
   ],
   "source": [
    "# Get the averages across the multiple runs\n",
    "compile_results_multiple_runs_df = compile_results_multiple_runs_df.groupby(compile_results_multiple_runs_df.index).mean() # .index = groupby the epoch number\n",
    "compile_results_multiple_runs_df"
   ]
  },
  {
   "cell_type": "code",
   "execution_count": 40,
   "id": "4481c6a9-d620-4649-949b-1ccb6bba8f7f",
   "metadata": {},
   "outputs": [
    {
     "name": "stdout",
     "output_type": "stream",
     "text": [
      "Mean train epoch time difference: -10.891% (negative means faster)\n",
      "Mean test epoch time difference: -16.438% (negative means faster)\n",
      "[INFO] Plot saved to pytorch_2_results/figures/multi_run_NVIDIA_GeForce_RTX_4090_ResNet50_CIFAR10_224_train_epoch_time.png\n"
     ]
    },
    {
     "data": {
      "image/png": "[encoded data removed]",
      "text/plain": [
       "<Figure size 1000x700 with 1 Axes>"
      ]
     },
     "metadata": {},
     "output_type": "display_data"
    }
   ],
   "source": [
    "# Create a directory to save the multi-run figure to \n",
    "os.makedirs(\"pytorch_2_results/figures\", exist_ok=True)\n",
    "\n",
    "# Create a path to save the figure for multiple runs\n",
    "save_path_multi_run = f\"pytorch_2_results/figures/multi_run_{GPU_NAME}_{MODEL_NAME}_{DATASET_NAME}_{IMAGE_SIZE}_train_epoch_time.png\"\n",
    "\n",
    "# Plot the mean epoch times for experiment 3 and 4\n",
    "plot_mean_epoch_times(non_compiled_results=non_compile_results_multiple_runs_df, \n",
    "                      compiled_results=compile_results_multiple_runs_df, \n",
    "                      multi_runs=True, \n",
    "                      num_runs=NUM_RUNS, \n",
    "                      save_path=save_path_multi_run, \n",
    "                      save=True)"
   ]
  },
  {
   "cell_type": "code",
   "execution_count": 41,
   "id": "018cbce4-fab4-489b-b6e1-1acb89466f95",
   "metadata": {},
   "outputs": [
    {
     "name": "stdout",
     "output_type": "stream",
     "text": [
      "[INFO] Saving experiment 3 non-compiled results to: pytorch_2_results/multi_run_results/single_run_non_compiled_results_CIFAR10_ResNet50_NVIDIA_GeForce_RTX_4090.csv\n",
      "[INFO] Saving experiment 4 compiled results to: pytorch_2_results/multi_run_results/single_run_compiled_results_CIFAR10_ResNet50_NVIDIA_GeForce_RTX_4090.csv\n"
     ]
    }
   ],
   "source": [
    "# Make a directory for multi_run results\n",
    "import os\n",
    "pytorch_2_results_dir = \"pytorch_2_results\"\n",
    "pytorch_2_multi_run_results_dir = f\"{pytorch_2_results_dir}/multi_run_results\"\n",
    "os.makedirs(pytorch_2_multi_run_results_dir, exist_ok=True)\n",
    "\n",
    "# Create filenames for each of the dataframes\n",
    "save_name_for_multi_run_non_compiled_results = f\"multi_run_non_compiled_results_{NUM_RUNS}_runs_{DATASET_NAME}_{MODEL_NAME}_{GPU_NAME}.csv\"\n",
    "save_name_for_multi_run_compiled_results = f\"multi_run_compiled_results_{NUM_RUNS}_runs_{DATASET_NAME}_{MODEL_NAME}_{GPU_NAME}.csv\"\n",
    "\n",
    "# Create filepaths to save the results to\n",
    "multi_run_no_compile_save_path = f\"{pytorch_2_multi_run_results_dir}/{save_name_for_non_compiled_results}\"\n",
    "multi_run_compile_save_path = f\"{pytorch_2_multi_run_results_dir}/{save_name_for_compiled_results}\"\n",
    "print(f\"[INFO] Saving experiment 3 non-compiled results to: {multi_run_no_compile_save_path}\")\n",
    "print(f\"[INFO] Saving experiment 4 compiled results to: {multi_run_compile_save_path}\")\n",
    "\n",
    "# Save the results\n",
    "non_compile_results_multiple_runs_df.to_csv(multi_run_no_compile_save_path)\n",
    "compile_results_multiple_runs_df.to_csv(multi_run_compile_save_path)"
   ]
  },
  {
   "cell_type": "code",
   "execution_count": null,
   "id": "68c05851-1b4e-439a-a40b-ecc1b473d574",
   "metadata": {},
   "outputs": [],
   "source": []
  }
 ],
 "metadata": {
  "kernelspec": {
   "display_name": "Python 3 (ipykernel)",
   "language": "python",
   "name": "python3"
  },
  "language_info": {
   "codemirror_mode": {
    "name": "ipython",
    "version": 3
   },
   "file_extension": ".py",
   "mimetype": "text/x-python",
   "name": "python",
   "nbconvert_exporter": "python",
   "pygments_lexer": "ipython3",
   "version": "3.11.7"
  }
 },
 "nbformat": 4,
 "nbformat_minor": 5
}
